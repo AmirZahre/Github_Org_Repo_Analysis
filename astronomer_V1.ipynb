{
 "cells": [
  {
   "cell_type": "markdown",
   "id": "74f0902c-e84d-427c-a5ae-225b1b0b2908",
   "metadata": {
    "tags": []
   },
   "source": [
    "# Astronomer - ML Intern Assignment\n",
    "January 12, 2022 <br>\n",
    "Amir Zahreddine\n",
    "\n",
    "### In this project, we will dive into the preprocessing and analysis of indident tickets submitted to the Astronomer github repository.\n",
    "## Table of Contents <a class=\"anchor\" id=\"TOC\"></a>\n",
    "* [Part 1: Pulling the Data](#1)\n",
    "* [Part 2: Preprocessing the Data](#2)\n",
    "* [Part 3: Descriptive Analytics](#3)\n",
    "* >[Part 3a: Volume of Tickets Over Time](#3a)\n",
    "* >[Part 3b: Isolating the Number of Unique Visitors](#3b)\n",
    "* >[Part 3c: Length of Time for a Ticket to Close](#3c)\n",
    "* >[Part 3d: Removing Outliers from Numerical Columns with Z-Score Method](#3d)\n",
    "* [Part 4: Machine Learning (Regression to Predict Ticket Resolution Time)](#4)"
   ]
  },
  {
   "cell_type": "markdown",
   "id": "dd01576e-e6e8-461b-a241-0ce98a43b96f",
   "metadata": {},
   "source": [
    "# Part 1: Pulling the Data <a class=\"anchor\" id=\"1\"></a>"
   ]
  },
  {
   "cell_type": "markdown",
   "id": "68c5c2c6-bad7-49f9-984a-bac513d672d0",
   "metadata": {},
   "source": [
    "[return to TOC](#TOC)"
   ]
  },
  {
   "cell_type": "code",
   "execution_count": 200,
   "id": "5422ea5f",
   "metadata": {},
   "outputs": [],
   "source": [
    "'''\n",
    "Here are some preliminary imports. We'll need more.\n",
    "Feel free to install and import any packages you'd like.\n",
    "'''\n",
    "import requests\n",
    "import os\n",
    "import json\n",
    "import numpy as np\n",
    "import pandas as pd\n",
    "\n",
    "# Additional Libraries\n",
    "import config #to pull API secret key\n",
    "from matplotlib import pyplot as plt\n",
    "import datetime as dt\n",
    "import seaborn as sns\n",
    "\n",
    "# x axis ticks\n",
    "import matplotlib.dates as mdates\n",
    "import matplotlib.ticker as mtick"
   ]
  },
  {
   "cell_type": "code",
   "execution_count": 201,
   "id": "62eb6a0a",
   "metadata": {},
   "outputs": [],
   "source": [
    "'''\n",
    "Let's retrieve all issues in the Apache Airflow OSS project using the github api. \n",
    "Insert your username below (in two places).\n",
    "\n",
    "You should end up with about 20k issues, including ones that date back to 2015 when the project was created.\n",
    "'''\n",
    "def get_issues_from_api():\n",
    "    session = requests.Session()\n",
    "    url = \"https://api.github.com/repos/apache/airflow/issues?state=all\"\n",
    "    response = session.get(\n",
    "        url,\n",
    "        auth=(\n",
    "            \"AmirZahre\", # your github username\n",
    "            config.api_secret\n",
    "        ),\n",
    "    )\n",
    "    yield response.json()\n",
    "\n",
    "    page=2\n",
    "    while 'next' in response.links:\n",
    "        response = session.get(\n",
    "            url,\n",
    "            auth=(\n",
    "                \"AmirZahre\", # your github username\n",
    "                config.api_secret\n",
    "            ),\n",
    "            params={\"page\": page}\n",
    "        )\n",
    "        page += 1\n",
    "        yield response.json()\n",
    "        \n",
    "\n",
    "def get_all_issues(cache_path=\"airflow_issues.feather\"):\n",
    "    if os.path.exists(cache_path):\n",
    "        print(\"retrieving issues from cache\")\n",
    "        df = pd.read_feather(cache_path)\n",
    "    else:\n",
    "        print(\"retrieving issues from API\")\n",
    "        df_shards = []\n",
    "        for i, page in enumerate(get_issues_from_api()):\n",
    "            print(f\"retrieving page {i}\")\n",
    "            if not page:\n",
    "                print(f\"No issues found on page {i}: {page}\")\n",
    "                continue\n",
    "            page_df = pd.DataFrame(page)\n",
    "            df_shards.append(page_df)\n",
    "        df = pd.concat(df_shards).reset_index()\n",
    "        print(f\"Saving results to {cache_path}\")\n",
    "        df.to_feather(cache_path)\n",
    "    return df\n"
   ]
  },
  {
   "cell_type": "code",
   "execution_count": 202,
   "id": "e834a4ca",
   "metadata": {},
   "outputs": [
    {
     "name": "stdout",
     "output_type": "stream",
     "text": [
      "retrieving issues from cache\n"
     ]
    }
   ],
   "source": [
    "df = get_all_issues()"
   ]
  },
  {
   "cell_type": "code",
   "execution_count": 203,
   "id": "e0eb1c4e",
   "metadata": {},
   "outputs": [
    {
     "data": {
      "text/html": [
       "<div>\n",
       "<style scoped>\n",
       "    .dataframe tbody tr th:only-of-type {\n",
       "        vertical-align: middle;\n",
       "    }\n",
       "\n",
       "    .dataframe tbody tr th {\n",
       "        vertical-align: top;\n",
       "    }\n",
       "\n",
       "    .dataframe thead th {\n",
       "        text-align: right;\n",
       "    }\n",
       "</style>\n",
       "<table border=\"1\" class=\"dataframe\">\n",
       "  <thead>\n",
       "    <tr style=\"text-align: right;\">\n",
       "      <th></th>\n",
       "      <th>index</th>\n",
       "      <th>url</th>\n",
       "      <th>repository_url</th>\n",
       "      <th>labels_url</th>\n",
       "      <th>comments_url</th>\n",
       "      <th>events_url</th>\n",
       "      <th>html_url</th>\n",
       "      <th>id</th>\n",
       "      <th>node_id</th>\n",
       "      <th>number</th>\n",
       "      <th>title</th>\n",
       "      <th>user</th>\n",
       "      <th>labels</th>\n",
       "      <th>state</th>\n",
       "      <th>locked</th>\n",
       "      <th>assignee</th>\n",
       "      <th>assignees</th>\n",
       "      <th>milestone</th>\n",
       "      <th>comments</th>\n",
       "      <th>created_at</th>\n",
       "      <th>updated_at</th>\n",
       "      <th>closed_at</th>\n",
       "      <th>author_association</th>\n",
       "      <th>active_lock_reason</th>\n",
       "      <th>draft</th>\n",
       "      <th>pull_request</th>\n",
       "      <th>body</th>\n",
       "      <th>reactions</th>\n",
       "      <th>timeline_url</th>\n",
       "      <th>performed_via_github_app</th>\n",
       "    </tr>\n",
       "  </thead>\n",
       "  <tbody>\n",
       "    <tr>\n",
       "      <th>0</th>\n",
       "      <td>0</td>\n",
       "      <td>https://api.github.com/repos/apache/airflow/is...</td>\n",
       "      <td>https://api.github.com/repos/apache/airflow</td>\n",
       "      <td>https://api.github.com/repos/apache/airflow/is...</td>\n",
       "      <td>https://api.github.com/repos/apache/airflow/is...</td>\n",
       "      <td>https://api.github.com/repos/apache/airflow/is...</td>\n",
       "      <td>https://github.com/apache/airflow/pull/20767</td>\n",
       "      <td>1096939225</td>\n",
       "      <td>PR_kwDOAgUK284wsGiW</td>\n",
       "      <td>20767</td>\n",
       "      <td>Rename amazon EMR hook name</td>\n",
       "      <td>{'avatar_url': 'https://avatars.githubusercont...</td>\n",
       "      <td>[{'color': 'f89500', 'default': False, 'descri...</td>\n",
       "      <td>closed</td>\n",
       "      <td>False</td>\n",
       "      <td>None</td>\n",
       "      <td>[]</td>\n",
       "      <td>None</td>\n",
       "      <td>3</td>\n",
       "      <td>2022-01-08T14:15:31Z</td>\n",
       "      <td>2022-01-08T15:26:11Z</td>\n",
       "      <td>2022-01-08T15:26:09Z</td>\n",
       "      <td>CONTRIBUTOR</td>\n",
       "      <td>None</td>\n",
       "      <td>False</td>\n",
       "      <td>{'diff_url': 'https://github.com/apache/airflo...</td>\n",
       "      <td>Renamed emr hook from Elastic MapReduce to Ama...</td>\n",
       "      <td>{'+1': 0, '-1': 0, 'confused': 0, 'eyes': 0, '...</td>\n",
       "      <td>https://api.github.com/repos/apache/airflow/is...</td>\n",
       "      <td>None</td>\n",
       "    </tr>\n",
       "    <tr>\n",
       "      <th>1</th>\n",
       "      <td>1</td>\n",
       "      <td>https://api.github.com/repos/apache/airflow/is...</td>\n",
       "      <td>https://api.github.com/repos/apache/airflow</td>\n",
       "      <td>https://api.github.com/repos/apache/airflow/is...</td>\n",
       "      <td>https://api.github.com/repos/apache/airflow/is...</td>\n",
       "      <td>https://api.github.com/repos/apache/airflow/is...</td>\n",
       "      <td>https://github.com/apache/airflow/issues/20766</td>\n",
       "      <td>1096938561</td>\n",
       "      <td>I_kwDOAgUK285BYfRB</td>\n",
       "      <td>20766</td>\n",
       "      <td>Status of testing Providers that were prepared...</td>\n",
       "      <td>{'avatar_url': 'https://avatars.githubusercont...</td>\n",
       "      <td>[{'color': '5319e7', 'default': False, 'descri...</td>\n",
       "      <td>open</td>\n",
       "      <td>False</td>\n",
       "      <td>None</td>\n",
       "      <td>[]</td>\n",
       "      <td>None</td>\n",
       "      <td>0</td>\n",
       "      <td>2022-01-08T14:12:48Z</td>\n",
       "      <td>2022-01-08T14:12:48Z</td>\n",
       "      <td>None</td>\n",
       "      <td>MEMBER</td>\n",
       "      <td>None</td>\n",
       "      <td>None</td>\n",
       "      <td>None</td>\n",
       "      <td>### Body\\n\\nI have a kind request for all the ...</td>\n",
       "      <td>{'+1': 0, '-1': 0, 'confused': 0, 'eyes': 0, '...</td>\n",
       "      <td>https://api.github.com/repos/apache/airflow/is...</td>\n",
       "      <td>None</td>\n",
       "    </tr>\n",
       "    <tr>\n",
       "      <th>2</th>\n",
       "      <td>2</td>\n",
       "      <td>https://api.github.com/repos/apache/airflow/is...</td>\n",
       "      <td>https://api.github.com/repos/apache/airflow</td>\n",
       "      <td>https://api.github.com/repos/apache/airflow/is...</td>\n",
       "      <td>https://api.github.com/repos/apache/airflow/is...</td>\n",
       "      <td>https://api.github.com/repos/apache/airflow/is...</td>\n",
       "      <td>https://github.com/apache/airflow/pull/20765</td>\n",
       "      <td>1096903757</td>\n",
       "      <td>PR_kwDOAgUK284wsBH7</td>\n",
       "      <td>20765</td>\n",
       "      <td>Add documentation for an ad-hoc release of 2 p...</td>\n",
       "      <td>{'avatar_url': 'https://avatars.githubusercont...</td>\n",
       "      <td>[{'color': 'd4c5f9', 'default': False, 'descri...</td>\n",
       "      <td>closed</td>\n",
       "      <td>False</td>\n",
       "      <td>None</td>\n",
       "      <td>[]</td>\n",
       "      <td>None</td>\n",
       "      <td>1</td>\n",
       "      <td>2022-01-08T11:24:41Z</td>\n",
       "      <td>2022-01-08T13:59:11Z</td>\n",
       "      <td>2022-01-08T13:59:11Z</td>\n",
       "      <td>MEMBER</td>\n",
       "      <td>None</td>\n",
       "      <td>False</td>\n",
       "      <td>{'diff_url': 'https://github.com/apache/airflo...</td>\n",
       "      <td>&lt;!--\\r\\nThank you for contributing! Please mak...</td>\n",
       "      <td>{'+1': 0, '-1': 0, 'confused': 0, 'eyes': 0, '...</td>\n",
       "      <td>https://api.github.com/repos/apache/airflow/is...</td>\n",
       "      <td>None</td>\n",
       "    </tr>\n",
       "    <tr>\n",
       "      <th>3</th>\n",
       "      <td>3</td>\n",
       "      <td>https://api.github.com/repos/apache/airflow/is...</td>\n",
       "      <td>https://api.github.com/repos/apache/airflow</td>\n",
       "      <td>https://api.github.com/repos/apache/airflow/is...</td>\n",
       "      <td>https://api.github.com/repos/apache/airflow/is...</td>\n",
       "      <td>https://api.github.com/repos/apache/airflow/is...</td>\n",
       "      <td>https://github.com/apache/airflow/pull/20764</td>\n",
       "      <td>1096847036</td>\n",
       "      <td>PR_kwDOAgUK284wr3Zo</td>\n",
       "      <td>20764</td>\n",
       "      <td>Update metric name in documentation</td>\n",
       "      <td>{'avatar_url': 'https://avatars.githubusercont...</td>\n",
       "      <td>[{'color': '0030b5', 'default': False, 'descri...</td>\n",
       "      <td>open</td>\n",
       "      <td>False</td>\n",
       "      <td>None</td>\n",
       "      <td>[]</td>\n",
       "      <td>None</td>\n",
       "      <td>1</td>\n",
       "      <td>2022-01-08T06:15:11Z</td>\n",
       "      <td>2022-01-08T15:21:56Z</td>\n",
       "      <td>None</td>\n",
       "      <td>CONTRIBUTOR</td>\n",
       "      <td>None</td>\n",
       "      <td>False</td>\n",
       "      <td>{'diff_url': 'https://github.com/apache/airflo...</td>\n",
       "      <td>&lt;!--\\r\\nThank you for contributing! Please mak...</td>\n",
       "      <td>{'+1': 0, '-1': 0, 'confused': 0, 'eyes': 0, '...</td>\n",
       "      <td>https://api.github.com/repos/apache/airflow/is...</td>\n",
       "      <td>None</td>\n",
       "    </tr>\n",
       "    <tr>\n",
       "      <th>4</th>\n",
       "      <td>4</td>\n",
       "      <td>https://api.github.com/repos/apache/airflow/is...</td>\n",
       "      <td>https://api.github.com/repos/apache/airflow</td>\n",
       "      <td>https://api.github.com/repos/apache/airflow/is...</td>\n",
       "      <td>https://api.github.com/repos/apache/airflow/is...</td>\n",
       "      <td>https://api.github.com/repos/apache/airflow/is...</td>\n",
       "      <td>https://github.com/apache/airflow/pull/20763</td>\n",
       "      <td>1096844110</td>\n",
       "      <td>PR_kwDOAgUK284wr25c</td>\n",
       "      <td>20763</td>\n",
       "      <td>[WIP] Verify enough resources for breeze</td>\n",
       "      <td>{'avatar_url': 'https://avatars.githubusercont...</td>\n",
       "      <td>[{'color': 'ededed', 'default': False, 'descri...</td>\n",
       "      <td>open</td>\n",
       "      <td>False</td>\n",
       "      <td>None</td>\n",
       "      <td>[]</td>\n",
       "      <td>None</td>\n",
       "      <td>0</td>\n",
       "      <td>2022-01-08T05:57:03Z</td>\n",
       "      <td>2022-01-08T15:35:18Z</td>\n",
       "      <td>None</td>\n",
       "      <td>CONTRIBUTOR</td>\n",
       "      <td>None</td>\n",
       "      <td>False</td>\n",
       "      <td>{'diff_url': 'https://github.com/apache/airflo...</td>\n",
       "      <td>Check resources before installing docker: Clos...</td>\n",
       "      <td>{'+1': 0, '-1': 0, 'confused': 0, 'eyes': 0, '...</td>\n",
       "      <td>https://api.github.com/repos/apache/airflow/is...</td>\n",
       "      <td>None</td>\n",
       "    </tr>\n",
       "  </tbody>\n",
       "</table>\n",
       "</div>"
      ],
      "text/plain": [
       "   index                                                url  \\\n",
       "0      0  https://api.github.com/repos/apache/airflow/is...   \n",
       "1      1  https://api.github.com/repos/apache/airflow/is...   \n",
       "2      2  https://api.github.com/repos/apache/airflow/is...   \n",
       "3      3  https://api.github.com/repos/apache/airflow/is...   \n",
       "4      4  https://api.github.com/repos/apache/airflow/is...   \n",
       "\n",
       "                                repository_url  \\\n",
       "0  https://api.github.com/repos/apache/airflow   \n",
       "1  https://api.github.com/repos/apache/airflow   \n",
       "2  https://api.github.com/repos/apache/airflow   \n",
       "3  https://api.github.com/repos/apache/airflow   \n",
       "4  https://api.github.com/repos/apache/airflow   \n",
       "\n",
       "                                          labels_url  \\\n",
       "0  https://api.github.com/repos/apache/airflow/is...   \n",
       "1  https://api.github.com/repos/apache/airflow/is...   \n",
       "2  https://api.github.com/repos/apache/airflow/is...   \n",
       "3  https://api.github.com/repos/apache/airflow/is...   \n",
       "4  https://api.github.com/repos/apache/airflow/is...   \n",
       "\n",
       "                                        comments_url  \\\n",
       "0  https://api.github.com/repos/apache/airflow/is...   \n",
       "1  https://api.github.com/repos/apache/airflow/is...   \n",
       "2  https://api.github.com/repos/apache/airflow/is...   \n",
       "3  https://api.github.com/repos/apache/airflow/is...   \n",
       "4  https://api.github.com/repos/apache/airflow/is...   \n",
       "\n",
       "                                          events_url  \\\n",
       "0  https://api.github.com/repos/apache/airflow/is...   \n",
       "1  https://api.github.com/repos/apache/airflow/is...   \n",
       "2  https://api.github.com/repos/apache/airflow/is...   \n",
       "3  https://api.github.com/repos/apache/airflow/is...   \n",
       "4  https://api.github.com/repos/apache/airflow/is...   \n",
       "\n",
       "                                         html_url          id  \\\n",
       "0    https://github.com/apache/airflow/pull/20767  1096939225   \n",
       "1  https://github.com/apache/airflow/issues/20766  1096938561   \n",
       "2    https://github.com/apache/airflow/pull/20765  1096903757   \n",
       "3    https://github.com/apache/airflow/pull/20764  1096847036   \n",
       "4    https://github.com/apache/airflow/pull/20763  1096844110   \n",
       "\n",
       "               node_id  number  \\\n",
       "0  PR_kwDOAgUK284wsGiW   20767   \n",
       "1   I_kwDOAgUK285BYfRB   20766   \n",
       "2  PR_kwDOAgUK284wsBH7   20765   \n",
       "3  PR_kwDOAgUK284wr3Zo   20764   \n",
       "4  PR_kwDOAgUK284wr25c   20763   \n",
       "\n",
       "                                               title  \\\n",
       "0                        Rename amazon EMR hook name   \n",
       "1  Status of testing Providers that were prepared...   \n",
       "2  Add documentation for an ad-hoc release of 2 p...   \n",
       "3                Update metric name in documentation   \n",
       "4           [WIP] Verify enough resources for breeze   \n",
       "\n",
       "                                                user  \\\n",
       "0  {'avatar_url': 'https://avatars.githubusercont...   \n",
       "1  {'avatar_url': 'https://avatars.githubusercont...   \n",
       "2  {'avatar_url': 'https://avatars.githubusercont...   \n",
       "3  {'avatar_url': 'https://avatars.githubusercont...   \n",
       "4  {'avatar_url': 'https://avatars.githubusercont...   \n",
       "\n",
       "                                              labels   state  locked assignee  \\\n",
       "0  [{'color': 'f89500', 'default': False, 'descri...  closed   False     None   \n",
       "1  [{'color': '5319e7', 'default': False, 'descri...    open   False     None   \n",
       "2  [{'color': 'd4c5f9', 'default': False, 'descri...  closed   False     None   \n",
       "3  [{'color': '0030b5', 'default': False, 'descri...    open   False     None   \n",
       "4  [{'color': 'ededed', 'default': False, 'descri...    open   False     None   \n",
       "\n",
       "  assignees milestone  comments            created_at            updated_at  \\\n",
       "0        []      None         3  2022-01-08T14:15:31Z  2022-01-08T15:26:11Z   \n",
       "1        []      None         0  2022-01-08T14:12:48Z  2022-01-08T14:12:48Z   \n",
       "2        []      None         1  2022-01-08T11:24:41Z  2022-01-08T13:59:11Z   \n",
       "3        []      None         1  2022-01-08T06:15:11Z  2022-01-08T15:21:56Z   \n",
       "4        []      None         0  2022-01-08T05:57:03Z  2022-01-08T15:35:18Z   \n",
       "\n",
       "              closed_at author_association active_lock_reason  draft  \\\n",
       "0  2022-01-08T15:26:09Z        CONTRIBUTOR               None  False   \n",
       "1                  None             MEMBER               None   None   \n",
       "2  2022-01-08T13:59:11Z             MEMBER               None  False   \n",
       "3                  None        CONTRIBUTOR               None  False   \n",
       "4                  None        CONTRIBUTOR               None  False   \n",
       "\n",
       "                                        pull_request  \\\n",
       "0  {'diff_url': 'https://github.com/apache/airflo...   \n",
       "1                                               None   \n",
       "2  {'diff_url': 'https://github.com/apache/airflo...   \n",
       "3  {'diff_url': 'https://github.com/apache/airflo...   \n",
       "4  {'diff_url': 'https://github.com/apache/airflo...   \n",
       "\n",
       "                                                body  \\\n",
       "0  Renamed emr hook from Elastic MapReduce to Ama...   \n",
       "1  ### Body\\n\\nI have a kind request for all the ...   \n",
       "2  <!--\\r\\nThank you for contributing! Please mak...   \n",
       "3  <!--\\r\\nThank you for contributing! Please mak...   \n",
       "4  Check resources before installing docker: Clos...   \n",
       "\n",
       "                                           reactions  \\\n",
       "0  {'+1': 0, '-1': 0, 'confused': 0, 'eyes': 0, '...   \n",
       "1  {'+1': 0, '-1': 0, 'confused': 0, 'eyes': 0, '...   \n",
       "2  {'+1': 0, '-1': 0, 'confused': 0, 'eyes': 0, '...   \n",
       "3  {'+1': 0, '-1': 0, 'confused': 0, 'eyes': 0, '...   \n",
       "4  {'+1': 0, '-1': 0, 'confused': 0, 'eyes': 0, '...   \n",
       "\n",
       "                                        timeline_url performed_via_github_app  \n",
       "0  https://api.github.com/repos/apache/airflow/is...                     None  \n",
       "1  https://api.github.com/repos/apache/airflow/is...                     None  \n",
       "2  https://api.github.com/repos/apache/airflow/is...                     None  \n",
       "3  https://api.github.com/repos/apache/airflow/is...                     None  \n",
       "4  https://api.github.com/repos/apache/airflow/is...                     None  "
      ]
     },
     "execution_count": 203,
     "metadata": {},
     "output_type": "execute_result"
    }
   ],
   "source": [
    "pd.set_option('display.max_columns',None)\n",
    "df.head()"
   ]
  },
  {
   "cell_type": "markdown",
   "id": "67a8cece",
   "metadata": {},
   "source": [
    "# Part 2: Preprocessing the Data <a class=\"anchor\" id=\"2\"></a>"
   ]
  },
  {
   "cell_type": "markdown",
   "id": "dd0cdb82-3f45-4eac-8b5e-dc871167387e",
   "metadata": {},
   "source": [
    "[return to TOC](#TOC)"
   ]
  },
  {
   "cell_type": "code",
   "execution_count": 204,
   "id": "5b8d3680-2ddb-4225-8479-4e734fda0eb4",
   "metadata": {},
   "outputs": [],
   "source": [
    "'''\n",
    "For xlabel changes in a few graphs below there the x-axis is the month\n",
    "'''\n",
    "def getMonthName(month_number):\n",
    "    testdate=dt.date(2010,int(month_number),1)\n",
    "    return testdate.strftime('%b')\n",
    "\n",
    "\n",
    "'''\n",
    "For removing outliers in a few tables below\n",
    "'''\n",
    "# Removing outliers using the below formula\n",
    "import scipy\n",
    "\n",
    "# pulled from https://stackoverflow.com/questions/23199796/detect-and-exclude-outliers-in-a-pandas-dataframe by KeyMaker00\n",
    "def drop_numerical_outliers(df1):\n",
    "    # Constrains will contain `True` or `False` depending on if it is a value below the threshold.\n",
    "    constrains = df1.select_dtypes(include=[np.number]) \\\n",
    "        .apply(lambda x: np.abs(scipy.stats.zscore(x)) < 3) \\\n",
    "        .all(axis=1)\n",
    "    # Drop (inplace) values set to be rejected\n",
    "    df1.drop(df1.index[~constrains], inplace=True)"
   ]
  },
  {
   "cell_type": "code",
   "execution_count": 205,
   "id": "0a0efb99",
   "metadata": {},
   "outputs": [
    {
     "data": {
      "text/plain": [
       "Index(['index', 'url', 'repository_url', 'labels_url', 'comments_url',\n",
       "       'events_url', 'html_url', 'id', 'node_id', 'number', 'title', 'user',\n",
       "       'labels', 'state', 'locked', 'assignee', 'assignees', 'milestone',\n",
       "       'comments', 'created_at', 'updated_at', 'closed_at',\n",
       "       'author_association', 'active_lock_reason', 'draft', 'pull_request',\n",
       "       'body', 'reactions', 'timeline_url', 'performed_via_github_app'],\n",
       "      dtype='object')"
      ]
     },
     "execution_count": 205,
     "metadata": {},
     "output_type": "execute_result"
    }
   ],
   "source": [
    "'''\n",
    "There are lots of fields in the data. \n",
    "We will preprocess the data, engineer some features, and keep only the promising features.\n",
    "'''\n",
    "df.columns"
   ]
  },
  {
   "cell_type": "code",
   "execution_count": 206,
   "id": "b4933808-882a-44b6-a9d2-1e578c40ae80",
   "metadata": {},
   "outputs": [
    {
     "data": {
      "text/plain": [
       "CONTRIBUTOR     9022\n",
       "MEMBER          7047\n",
       "NONE            3589\n",
       "COLLABORATOR      10\n",
       "Name: author_association, dtype: int64"
      ]
     },
     "execution_count": 206,
     "metadata": {},
     "output_type": "execute_result"
    }
   ],
   "source": [
    "df.author_association.value_counts()"
   ]
  },
  {
   "cell_type": "code",
   "execution_count": 207,
   "id": "99852a45",
   "metadata": {},
   "outputs": [],
   "source": [
    "df = df.drop(columns=['index', 'url', 'repository_url', 'labels_url', 'comments_url',\n",
    "                      'events_url', 'html_url', 'performed_via_github_app', 'locked',\n",
    "                      'active_lock_reason', 'assignees', 'milestone'])\n",
    "\n",
    "# Processing timestamps\n",
    "df['created_at'] = pd.to_datetime(df['created_at'], format=\"%Y/%m/%d\")\n",
    "df['closed_at'] = pd.to_datetime(df['closed_at'], format=\"%Y/%m/%d\")\n",
    "\n",
    "# Binarizing some features\n",
    "df[\"has_pull_request\"] = df.pull_request.apply(lambda x: True if x is not None else False)\n",
    "df[\"has_comment\"] = df.comments.apply(lambda x: True if x > 0 else False)\n",
    "df['has_assignee'] = df['assignee'].apply(lambda x: True if x is not None else False)\n",
    "\n",
    "\n",
    "# Binarizing some more features\n",
    "df[\"contributor\"] = df.author_association.apply(lambda x: True if x == 'CONTRIBUTOR' else False)\n",
    "df[\"member\"] = df.author_association.apply(lambda x: True if x == 'MEMBER' else False)\n",
    "df[\"collaborator\"] = df.author_association.apply(lambda x: True if x == 'COLLABORATOR' else False)\n",
    "df[\"not_a_member\"] = df.author_association.apply(lambda x: True if x == 'NONE' else False)\n",
    "\n",
    "# Extracting the lengths of text features `title` and `body`\n",
    "df = df[df.body.notnull()]\n",
    "df['length_of_title'] = df['title'].apply(lambda x: len(x))\n",
    "df['length_of_body'] = df['body'].apply(lambda x: len(x))\n",
    "\n",
    "# Removing issues created by bots\n",
    "df['creator_user_login'] = df['user'].apply(lambda x: x.get('login'))\n",
    "df = df[df['creator_user_login'] != 'dependabot[bot]']"
   ]
  },
  {
   "cell_type": "code",
   "execution_count": 208,
   "id": "36d30f7d",
   "metadata": {},
   "outputs": [],
   "source": [
    "# Parsing the `labels` to determine the number of labels and which of the popular labels are used for each issue\n",
    "df['label_names'] = df['labels'].apply(lambda x: [str(i.get('name')) for i in x])\n",
    "df['n_labels'] = df['label_names'].apply(lambda x: len(x))\n",
    "not_labels = df.columns.to_list()\n",
    "\n",
    "def label_column_to_true(row):\n",
    "    for label in row.label_names:\n",
    "        label = (\n",
    "            label     \n",
    "            .replace(\":\", \"_\")\n",
    "            .replace(\" \", \"_\")\n",
    "            .replace(\"/\", \"_\")\n",
    "            .replace(\"'\", \"\")\n",
    "            .replace(\".\", \"_\")\n",
    "            .replace(\"-\", \"_\")\n",
    "        )\n",
    "        row[label] = 1\n",
    "    return row\n",
    "\n",
    "\n",
    "df_labels = df.apply(label_column_to_true, axis=1)\n",
    "df_labels = df_labels.loc[:, ~df_labels.columns.isin(not_labels)]\n",
    "\n",
    "# Labels that are used for at least 5% of issues\n",
    "df_labels_keep = df_labels.T[(df_labels.isna().sum(axis=0) < len(df_labels)*0.95)].T\n",
    "df_labels_keep.fillna(0, inplace=True)\n",
    "df_labels_keep = df_labels_keep.astype(\"bool\")\n",
    "df_labels_keep = df_labels_keep.add_prefix('label_')\n",
    "df = df.join(df_labels_keep)"
   ]
  },
  {
   "cell_type": "code",
   "execution_count": 209,
   "id": "ac07a416",
   "metadata": {},
   "outputs": [],
   "source": [
    "# Parsing the issue creators to identify users who create issues frequently\n",
    "df['creator_user_id'] = df['user'].apply(lambda x: x.get('id'))\n",
    "creators = df.creator_user_id.value_counts()\n",
    "\n",
    "# Issues created by top 0.05% issue creators\n",
    "freq_creators = dict(df.creator_user_id.value_counts(normalize=True).loc[lambda x : x>0.0005]) \n",
    "df['frequent_issue_creator'] = df.creator_user_id.apply(lambda x: x in freq_creators.keys())\n",
    "\n",
    "# Add and rearrange username and user ID\n",
    "creator_user_login = df.pop('creator_user_login')\n",
    "creator_user_id = df.pop('creator_user_id')\n",
    "df.insert(2, 'creator_user_login', creator_user_login)\n",
    "df.insert(3, 'creator_user_id', creator_user_id)"
   ]
  },
  {
   "cell_type": "code",
   "execution_count": 210,
   "id": "66fecb03",
   "metadata": {},
   "outputs": [],
   "source": [
    "# We now have our list of features to study\n",
    "features = [\n",
    "    'title',\n",
    "    'creator_user_login',\n",
    "    'creator_user_id',\n",
    "    'body',\n",
    "    'created_at',\n",
    "    'state',\n",
    "    'closed_at',\n",
    "    'frequent_issue_creator',\n",
    "    'author_association', \n",
    "    'length_of_title', \n",
    "    'length_of_body',\n",
    "    'has_assignee', \n",
    "    'has_pull_request', \n",
    "    'has_comment',\n",
    "    'comments',\n",
    "    'contributor',\n",
    "    'member',\n",
    "    'collaborator',\n",
    "    'not_a_member',\n",
    "    'n_labels'] + list(df_labels_keep.columns)\n",
    "\n",
    "df.drop([c for c in df if c not in features], axis=1, inplace=True)\n",
    "\n",
    "\n",
    "\n",
    "df[\"contributor\"] = df.author_association.apply(lambda x: True if x == 'CONTRIBUTOR' else False)\n",
    "df[\"member\"] = df.author_association.apply(lambda x: True if x == 'MEMBER' else False)\n",
    "df[\"collaborator\"] = df.author_association.apply(lambda x: True if x == 'COLLABORATOR' else False)\n",
    "df[\"not_a_member\"] = df.author_association.apply(lambda x: True if x == 'NONE' else False)"
   ]
  },
  {
   "cell_type": "markdown",
   "id": "6c4be8b5-6c17-4303-964a-9ef4ec182da3",
   "metadata": {},
   "source": [
    "## Additional Preprocessing #2"
   ]
  },
  {
   "cell_type": "code",
   "execution_count": 211,
   "id": "8b0d0ea0-0d82-422c-9ce6-5c83d3cbf280",
   "metadata": {},
   "outputs": [],
   "source": [
    "'''\n",
    "Add column for year and month of created and closed dates.\n",
    "'''\n",
    "\n",
    "df.insert(loc=5, column='created_date',value=pd.to_datetime(df.created_at.dt.strftime('%Y-%m-%d')))\n",
    "df.insert(loc=6, column='closed_date',value=pd.to_datetime(df.closed_at.dt.strftime('%Y-%m-%d')))\n",
    "\n",
    "\n",
    "'''\n",
    "Add column for length of time, in days, for a problem to be closed from the time it was opened\n",
    "'''\n",
    "df.insert(loc=7, column='time_to_close', value=df.closed_date - df.created_date) # create column\n",
    "df.time_to_close = df.time_to_close.apply(lambda x: x.days) # convert column to day value only (omit HH:MM:SS)\n",
    "df.time_to_close = df.time_to_close.apply(lambda x: 'Not Closed' if pd.isnull(x) else int(x)) # convert values to int, NaN if NaN"
   ]
  },
  {
   "cell_type": "code",
   "execution_count": 212,
   "id": "454081c7-895f-4f3e-a4a6-bc970d291212",
   "metadata": {},
   "outputs": [],
   "source": [
    "df['creator_user_id'] = df['creator_user_id'].astype(str)"
   ]
  },
  {
   "cell_type": "markdown",
   "id": "d83396bb",
   "metadata": {},
   "source": [
    "# Part 3: Descriptive Analytics <a class=\"anchor\" id=\"3\"></a>"
   ]
  },
  {
   "cell_type": "markdown",
   "id": "fdbab75c-70b0-4587-8334-8dc8399fe946",
   "metadata": {},
   "source": [
    "[return to TOC](#TOC)"
   ]
  },
  {
   "cell_type": "markdown",
   "id": "de6772b0-2320-4ce7-87cc-adcd9f5b0aa2",
   "metadata": {},
   "source": [
    "Let's study the cleaned-up data to summarize their attributes and find interesting trends, if any. \n",
    "\n",
    "#### Questions to ask:\n",
    "Level 1:\n",
    "* Average time for a ticket to be completed (days from opened to closed)? **(can gauge the health of the community. if tickets are being answered/fixed quickly, that is a good sign)**\n",
    "* When do the greatest number of tickets usually occur? Is there seasonality? **(can be used to potentially add more resources during 'high seasons')**\n",
    "* Are there key players who answer the most tickets? **(can dig into their places of employment through their github profile)**\n",
    "* Are incidents happening more or less frequently over time?\n",
    "* Is the number of incidents acceptable or could it be lower?\n",
    "* Ticket volume by specific issue (label?)\n",
    "* First contact resolution - tickets closed with only one comment?\n",
    "\n",
    "Level 2:\n",
    "* Has there been an improvement of ticket response time over the years?\n",
    "* Are there greater concentrations of speficic individuals submitting tickets?\n",
    "* Is there a trend of companies submitting requests? **(if there are a lot of individuals from a single company with issues, Astronomer can look into reaching out for additional support)**\n",
    "* Can we find clusters of incidents occuring during a specific time?\n",
    "* Backlogs and predicted backlogs\n",
    "* Number of unique users\n",
    "\n",
    "Level 3:\n",
    "* Can a trend be found for ticket open/close times? Do tickets with a greater number of labels see quicker response time, etc?"
   ]
  },
  {
   "cell_type": "code",
   "execution_count": null,
   "id": "02f88b4c-2860-4f25-aada-524c386e3989",
   "metadata": {},
   "outputs": [],
   "source": []
  },
  {
   "cell_type": "markdown",
   "id": "5fc2ee46-68a7-4e71-9f77-344228bc2f7b",
   "metadata": {},
   "source": [
    "# Part 3a: Volume of Tickets Over Time <a class=\"anchor\" id=\"3a\"></a>\n",
    "\n",
    "[return to TOC](#TOC)\n",
    "\n",
    "Is there a trend pertaining to the number of tickets submitted? Have they been increasing, decreasing, or stagnant?\n",
    "\n",
    "It's good to know how busy things are. Are there any obvious signs of seasonality? Are things becoming busier?"
   ]
  },
  {
   "cell_type": "code",
   "execution_count": 213,
   "id": "da0488a4-e323-4d74-9cdd-cd2cc8bf7c12",
   "metadata": {
    "tags": []
   },
   "outputs": [
    {
     "data": {
      "text/html": [
       "<div>\n",
       "<style scoped>\n",
       "    .dataframe tbody tr th:only-of-type {\n",
       "        vertical-align: middle;\n",
       "    }\n",
       "\n",
       "    .dataframe tbody tr th {\n",
       "        vertical-align: top;\n",
       "    }\n",
       "\n",
       "    .dataframe thead th {\n",
       "        text-align: right;\n",
       "    }\n",
       "</style>\n",
       "<table border=\"1\" class=\"dataframe\">\n",
       "  <thead>\n",
       "    <tr style=\"text-align: right;\">\n",
       "      <th></th>\n",
       "      <th>year</th>\n",
       "      <th>month</th>\n",
       "      <th>number_of_tickets</th>\n",
       "    </tr>\n",
       "  </thead>\n",
       "  <tbody>\n",
       "    <tr>\n",
       "      <th>0</th>\n",
       "      <td>2015</td>\n",
       "      <td>4</td>\n",
       "      <td>2</td>\n",
       "    </tr>\n",
       "    <tr>\n",
       "      <th>1</th>\n",
       "      <td>2015</td>\n",
       "      <td>6</td>\n",
       "      <td>96</td>\n",
       "    </tr>\n",
       "    <tr>\n",
       "      <th>2</th>\n",
       "      <td>2015</td>\n",
       "      <td>7</td>\n",
       "      <td>111</td>\n",
       "    </tr>\n",
       "    <tr>\n",
       "      <th>3</th>\n",
       "      <td>2015</td>\n",
       "      <td>8</td>\n",
       "      <td>129</td>\n",
       "    </tr>\n",
       "    <tr>\n",
       "      <th>4</th>\n",
       "      <td>2015</td>\n",
       "      <td>9</td>\n",
       "      <td>138</td>\n",
       "    </tr>\n",
       "    <tr>\n",
       "      <th>...</th>\n",
       "      <td>...</td>\n",
       "      <td>...</td>\n",
       "      <td>...</td>\n",
       "    </tr>\n",
       "    <tr>\n",
       "      <th>76</th>\n",
       "      <td>2021</td>\n",
       "      <td>9</td>\n",
       "      <td>584</td>\n",
       "    </tr>\n",
       "    <tr>\n",
       "      <th>77</th>\n",
       "      <td>2021</td>\n",
       "      <td>10</td>\n",
       "      <td>575</td>\n",
       "    </tr>\n",
       "    <tr>\n",
       "      <th>78</th>\n",
       "      <td>2021</td>\n",
       "      <td>11</td>\n",
       "      <td>473</td>\n",
       "    </tr>\n",
       "    <tr>\n",
       "      <th>79</th>\n",
       "      <td>2021</td>\n",
       "      <td>12</td>\n",
       "      <td>592</td>\n",
       "    </tr>\n",
       "    <tr>\n",
       "      <th>80</th>\n",
       "      <td>2022</td>\n",
       "      <td>1</td>\n",
       "      <td>130</td>\n",
       "    </tr>\n",
       "  </tbody>\n",
       "</table>\n",
       "<p>81 rows × 3 columns</p>\n",
       "</div>"
      ],
      "text/plain": [
       "    year  month  number_of_tickets\n",
       "0   2015      4                  2\n",
       "1   2015      6                 96\n",
       "2   2015      7                111\n",
       "3   2015      8                129\n",
       "4   2015      9                138\n",
       "..   ...    ...                ...\n",
       "76  2021      9                584\n",
       "77  2021     10                575\n",
       "78  2021     11                473\n",
       "79  2021     12                592\n",
       "80  2022      1                130\n",
       "\n",
       "[81 rows x 3 columns]"
      ]
     },
     "execution_count": 213,
     "metadata": {},
     "output_type": "execute_result"
    }
   ],
   "source": [
    "'''\n",
    "Group the creation date of tickets by Year and Month. Count the number of tickets for each period.\n",
    "'''\n",
    "\n",
    "# Group tickets by Year > Month\n",
    "monthly_tickets = (df.groupby([df.created_date.dt.year, df.created_date.dt.month])\n",
    "           .size() # Get the count of values for each period\n",
    "           .rename_axis(index=['year', 'month'],)\n",
    "           .reset_index())\n",
    "\n",
    "monthly_tickets.columns.values[2] = \"number_of_tickets\"\n",
    "monthly_tickets"
   ]
  },
  {
   "cell_type": "code",
   "execution_count": 214,
   "id": "3df252f6-7670-43ea-bec2-544e5627e4df",
   "metadata": {},
   "outputs": [
    {
     "data": {
      "image/png": "[encoded data removed]",
      "text/plain": [
       "<Figure size 1440x720 with 1 Axes>"
      ]
     },
     "metadata": {},
     "output_type": "display_data"
    }
   ],
   "source": [
    "fig, ax = plt.subplots(nrows=1, ncols=1, figsize=(20,10))\n",
    "\n",
    "# plotting for each year, by month\n",
    "# years prior to, and including, 2019\n",
    "years = [2015, 2016, 2017, 2018]\n",
    "i = 0\n",
    "for year in years:\n",
    "    sub = monthly_tickets[monthly_tickets['year'] == year]\n",
    "    ax.plot(sub['month'], sub['number_of_tickets'], label=year, c='black')\n",
    "    i += 1\n",
    "\n",
    "# years of 2019 to present    \n",
    "years = [2019,2020, 2021, 2022]\n",
    "i = 0\n",
    "for year in years:\n",
    "    sub = monthly_tickets[monthly_tickets['year'] == year]\n",
    "    ax.plot(sub['month'], sub['number_of_tickets'], label=year)\n",
    "    i += 1    \n",
    "\n",
    "    \n",
    "# x-axis ticks\n",
    "# rename x-axis from month number to month name\n",
    "plt.gca().xaxis.set_major_formatter(mtick.FuncFormatter(lambda x,p:getMonthName(x)))\n",
    "ax.set_xticks(np.arange(1, 13, 1.0))  \n",
    "\n",
    "# legend\n",
    "ax.legend(loc=\"upper left\")\n",
    "\n",
    "plt.title('Volume of Issues Submitted from 2015 to Present', fontsize=20)\n",
    "plt.xticks(fontsize=15)\n",
    "plt.yticks(fontsize=15)\n",
    "plt.style.use('seaborn-whitegrid')     \n",
    "plt.show()"
   ]
  },
  {
   "cell_type": "markdown",
   "id": "7ee7b758-7401-4beb-af3f-13182a12570a",
   "metadata": {},
   "source": [
    "* On a month to month basis, the volume of tickets hovered at around the same levels for the years 2015 to 2018.\n",
    "* Beginning 2019, ticket volume begins to increase above historic levels.\n",
    "* 2020 is where things begin to get interesting, as ticket volume begins to substantially increase.\n",
    "* Overall, there is a substantial increase in volume for the entire periods of 2020 and 2021 vs. the years prior.\n",
    "\n",
    "### How does the volume of tickets match with the number of unique visitors? Is it the same people just asking more tickets, or can this partially be attributed to a greater number of unique individuals experiencing issues?"
   ]
  },
  {
   "cell_type": "code",
   "execution_count": null,
   "id": "bf435acb-0163-402e-b70a-0022fadd4559",
   "metadata": {},
   "outputs": [],
   "source": []
  },
  {
   "cell_type": "markdown",
   "id": "b44dd9df-863b-4b9b-889c-a2c75f1517f7",
   "metadata": {},
   "source": [
    "# Part 3b: Isolating the Number of Unique Visitors <a class=\"anchor\" id=\"3b\"></a>\n",
    "\n",
    "[return to TOC](#TOC)\n",
    "\n",
    "Has there been an uptick of unique users? Are the tickets submitted by a regular group of individuals? \n",
    "\n",
    "Looking at this data can help us understand the growth of the repository as a place of knowledge for Apache Airflow."
   ]
  },
  {
   "cell_type": "code",
   "execution_count": 215,
   "id": "b5acd5a6-f74d-443d-9f6f-241c621530e7",
   "metadata": {},
   "outputs": [],
   "source": [
    "'''\n",
    "Reverse earlier code that set 'creator_user_id' to a string. \n",
    "We need to use the numbers themselves in order to organize them within a BST.\n",
    "'''\n",
    "\n",
    "df['creator_user_id'] = df['creator_user_id'].astype(int)"
   ]
  },
  {
   "cell_type": "code",
   "execution_count": 216,
   "id": "d4b5b10d-8161-429f-8385-6ed6c048ed7e",
   "metadata": {
    "tags": []
   },
   "outputs": [],
   "source": [
    "'''\n",
    "Create a Binary Search Tree (BST).\n",
    "The BST will be used to quickly and efficiently organize user ID's.\n",
    "Starting from 2015 and moving towards the present, each user ID will be compared to the user ID's in the BST.\n",
    "If the user ID exists, that user is **not** a unique submitter; however, if it does not exist, it's the user's first time submitting a ticket -- and therefore, they're unique.\n",
    "Code pulled from https://qvault.io/python/binary-search-tree-in-python/ and https://qvault.io/python/binary-search-tree-in-python/\n",
    "'''\n",
    "\n",
    "class BSTNode:\n",
    "    def __init__(self, val=None):\n",
    "        self.left = None\n",
    "        self.right = None\n",
    "        self.val = val\n",
    "        \n",
    "    # Insert value into tree\n",
    "    def insert(self, val):\n",
    "        if not self.val:\n",
    "            self.val = val\n",
    "            return\n",
    "\n",
    "        if self.val == val:\n",
    "            return\n",
    "\n",
    "        if val < self.val:\n",
    "            if self.left:\n",
    "                self.left.insert(val)\n",
    "                return\n",
    "            self.left = BSTNode(val)\n",
    "            return\n",
    "\n",
    "        if self.right:\n",
    "            self.right.insert(val)\n",
    "            return\n",
    "        self.right = BSTNode(val)\n",
    "    \n",
    "    \n",
    "    \n",
    "    # Check if value exists in tree\n",
    "    def exists(self, val):\n",
    "        if self.val is None:\n",
    "            return\n",
    "        \n",
    "        if val == self.val:\n",
    "            return True\n",
    "\n",
    "        if val < self.val:\n",
    "            if self.left == None:\n",
    "                return False\n",
    "            return self.left.exists(val)\n",
    "\n",
    "        if self.right == None:\n",
    "            return False\n",
    "        return self.right.exists(val)\n",
    "    \n",
    "# Print the tree in a horizontal-moving shape\n",
    "def printTree(node, level=0):\n",
    "    if node != None:\n",
    "        printTree(node.left, level + 1)\n",
    "        print(' ' * 4 * level + '->', node.val)\n",
    "        printTree(node.right, level + 1)"
   ]
  },
  {
   "cell_type": "code",
   "execution_count": 217,
   "id": "eee92dde-b2d3-4797-8c48-4c5b007283b0",
   "metadata": {},
   "outputs": [],
   "source": [
    "'''\n",
    "Cycle through each ID and add to the BST\n",
    "If the ID exists, that will be a repeat visitor\n",
    "If the ID does NOT exist, it is a unique visitor.\n",
    "If it is a unique visitor, incriment +1 for the respective Month, Year\n",
    "'''\n",
    "\n",
    "# Reverse the df so that the earliest case is at the beginning\n",
    "df_rev = df.iloc[::-1]\n",
    "\n",
    "# Initialize the lists and the tree\n",
    "unique_ID = []\n",
    "unique_date = []\n",
    "bst = BSTNode()\n",
    "\n",
    "# For each row within the reversed df (beginning 2015)\n",
    "for index, row in df_rev.iterrows():\n",
    "    # If the submitter ID does NOT exist, it is assumed to be unique\n",
    "    if bst.exists(row[1]) == False:\n",
    "        # Therefore, append each of the tables unique_date and unique_ID with the creation date of the ticket and user ID, respectively\n",
    "        unique_date.append(row[5].date())\n",
    "        unique_ID.append(row[1])\n",
    "    # Finally, insert the user ID into the BST so that it won't be double-counted as unique    \n",
    "    bst.insert(row[1])\n",
    "\n",
    "\n",
    "# Add the two lists from above into a DF\n",
    "x = pd.Series(unique_date)\n",
    "y = pd.Series(unique_ID)\n",
    "headers = ['unique_date','unique_ID']\n",
    "df_unique = pd.concat([x,y], axis=1, keys=headers)\n",
    "\n",
    "# Return the user_ID type into a string\n",
    "df['creator_user_id'] = df['creator_user_id'].astype(str)"
   ]
  },
  {
   "cell_type": "code",
   "execution_count": 218,
   "id": "2e524be9-085b-4194-99ef-7c57a2408a57",
   "metadata": {},
   "outputs": [
    {
     "data": {
      "text/html": [
       "<div>\n",
       "<style scoped>\n",
       "    .dataframe tbody tr th:only-of-type {\n",
       "        vertical-align: middle;\n",
       "    }\n",
       "\n",
       "    .dataframe tbody tr th {\n",
       "        vertical-align: top;\n",
       "    }\n",
       "\n",
       "    .dataframe thead th {\n",
       "        text-align: right;\n",
       "    }\n",
       "</style>\n",
       "<table border=\"1\" class=\"dataframe\">\n",
       "  <thead>\n",
       "    <tr style=\"text-align: right;\">\n",
       "      <th></th>\n",
       "      <th>unique_date</th>\n",
       "      <th>unique_ID</th>\n",
       "    </tr>\n",
       "  </thead>\n",
       "  <tbody>\n",
       "    <tr>\n",
       "      <th>0</th>\n",
       "      <td>2015-06-05</td>\n",
       "      <td>1024098</td>\n",
       "    </tr>\n",
       "    <tr>\n",
       "      <th>1</th>\n",
       "      <td>2015-06-05</td>\n",
       "      <td>1329385</td>\n",
       "    </tr>\n",
       "    <tr>\n",
       "      <th>2</th>\n",
       "      <td>2015-06-05</td>\n",
       "      <td>3050855</td>\n",
       "    </tr>\n",
       "    <tr>\n",
       "      <th>3</th>\n",
       "      <td>2015-06-05</td>\n",
       "      <td>7586111</td>\n",
       "    </tr>\n",
       "    <tr>\n",
       "      <th>4</th>\n",
       "      <td>2015-06-06</td>\n",
       "      <td>57258</td>\n",
       "    </tr>\n",
       "    <tr>\n",
       "      <th>...</th>\n",
       "      <td>...</td>\n",
       "      <td>...</td>\n",
       "    </tr>\n",
       "    <tr>\n",
       "      <th>4222</th>\n",
       "      <td>2022-01-07</td>\n",
       "      <td>23327515</td>\n",
       "    </tr>\n",
       "    <tr>\n",
       "      <th>4223</th>\n",
       "      <td>2022-01-07</td>\n",
       "      <td>47019599</td>\n",
       "    </tr>\n",
       "    <tr>\n",
       "      <th>4224</th>\n",
       "      <td>2022-01-07</td>\n",
       "      <td>64261155</td>\n",
       "    </tr>\n",
       "    <tr>\n",
       "      <th>4225</th>\n",
       "      <td>2022-01-07</td>\n",
       "      <td>68482867</td>\n",
       "    </tr>\n",
       "    <tr>\n",
       "      <th>4226</th>\n",
       "      <td>2022-01-08</td>\n",
       "      <td>10959000</td>\n",
       "    </tr>\n",
       "  </tbody>\n",
       "</table>\n",
       "<p>4227 rows × 2 columns</p>\n",
       "</div>"
      ],
      "text/plain": [
       "     unique_date  unique_ID\n",
       "0     2015-06-05    1024098\n",
       "1     2015-06-05    1329385\n",
       "2     2015-06-05    3050855\n",
       "3     2015-06-05    7586111\n",
       "4     2015-06-06      57258\n",
       "...          ...        ...\n",
       "4222  2022-01-07   23327515\n",
       "4223  2022-01-07   47019599\n",
       "4224  2022-01-07   64261155\n",
       "4225  2022-01-07   68482867\n",
       "4226  2022-01-08   10959000\n",
       "\n",
       "[4227 rows x 2 columns]"
      ]
     },
     "execution_count": 218,
     "metadata": {},
     "output_type": "execute_result"
    }
   ],
   "source": [
    "df_unique"
   ]
  },
  {
   "cell_type": "code",
   "execution_count": 219,
   "id": "08b7f740-3948-4ae9-9929-fbb0625dd3f5",
   "metadata": {},
   "outputs": [],
   "source": [
    "df_unique['year'] = df_unique.unique_date.apply(lambda x: x.year)\n",
    "df_unique['month'] = df_unique.unique_date.apply(lambda x: x.month)"
   ]
  },
  {
   "cell_type": "code",
   "execution_count": 220,
   "id": "2becbc4b-49c2-44c7-aa83-a5ec10e21e97",
   "metadata": {},
   "outputs": [
    {
     "data": {
      "text/html": [
       "<div>\n",
       "<style scoped>\n",
       "    .dataframe tbody tr th:only-of-type {\n",
       "        vertical-align: middle;\n",
       "    }\n",
       "\n",
       "    .dataframe tbody tr th {\n",
       "        vertical-align: top;\n",
       "    }\n",
       "\n",
       "    .dataframe thead th {\n",
       "        text-align: right;\n",
       "    }\n",
       "</style>\n",
       "<table border=\"1\" class=\"dataframe\">\n",
       "  <thead>\n",
       "    <tr style=\"text-align: right;\">\n",
       "      <th></th>\n",
       "      <th>year</th>\n",
       "      <th>month</th>\n",
       "      <th>number_of_unique_visitors</th>\n",
       "    </tr>\n",
       "  </thead>\n",
       "  <tbody>\n",
       "    <tr>\n",
       "      <th>0</th>\n",
       "      <td>2015</td>\n",
       "      <td>6</td>\n",
       "      <td>28</td>\n",
       "    </tr>\n",
       "    <tr>\n",
       "      <th>1</th>\n",
       "      <td>2015</td>\n",
       "      <td>7</td>\n",
       "      <td>23</td>\n",
       "    </tr>\n",
       "    <tr>\n",
       "      <th>2</th>\n",
       "      <td>2015</td>\n",
       "      <td>8</td>\n",
       "      <td>33</td>\n",
       "    </tr>\n",
       "    <tr>\n",
       "      <th>3</th>\n",
       "      <td>2015</td>\n",
       "      <td>9</td>\n",
       "      <td>29</td>\n",
       "    </tr>\n",
       "    <tr>\n",
       "      <th>4</th>\n",
       "      <td>2015</td>\n",
       "      <td>10</td>\n",
       "      <td>25</td>\n",
       "    </tr>\n",
       "    <tr>\n",
       "      <th>...</th>\n",
       "      <td>...</td>\n",
       "      <td>...</td>\n",
       "      <td>...</td>\n",
       "    </tr>\n",
       "    <tr>\n",
       "      <th>75</th>\n",
       "      <td>2021</td>\n",
       "      <td>9</td>\n",
       "      <td>126</td>\n",
       "    </tr>\n",
       "    <tr>\n",
       "      <th>76</th>\n",
       "      <td>2021</td>\n",
       "      <td>10</td>\n",
       "      <td>135</td>\n",
       "    </tr>\n",
       "    <tr>\n",
       "      <th>77</th>\n",
       "      <td>2021</td>\n",
       "      <td>11</td>\n",
       "      <td>109</td>\n",
       "    </tr>\n",
       "    <tr>\n",
       "      <th>78</th>\n",
       "      <td>2021</td>\n",
       "      <td>12</td>\n",
       "      <td>88</td>\n",
       "    </tr>\n",
       "    <tr>\n",
       "      <th>79</th>\n",
       "      <td>2022</td>\n",
       "      <td>1</td>\n",
       "      <td>21</td>\n",
       "    </tr>\n",
       "  </tbody>\n",
       "</table>\n",
       "<p>80 rows × 3 columns</p>\n",
       "</div>"
      ],
      "text/plain": [
       "    year  month  number_of_unique_visitors\n",
       "0   2015      6                         28\n",
       "1   2015      7                         23\n",
       "2   2015      8                         33\n",
       "3   2015      9                         29\n",
       "4   2015     10                         25\n",
       "..   ...    ...                        ...\n",
       "75  2021      9                        126\n",
       "76  2021     10                        135\n",
       "77  2021     11                        109\n",
       "78  2021     12                         88\n",
       "79  2022      1                         21\n",
       "\n",
       "[80 rows x 3 columns]"
      ]
     },
     "execution_count": 220,
     "metadata": {},
     "output_type": "execute_result"
    }
   ],
   "source": [
    "'''\n",
    "Group the creation date of tickets by Year and Month. Count the number of unique users for each period.\n",
    "'''\n",
    "\n",
    "monthly_unique = (df_unique.groupby([df_unique.year, df_unique.month])\n",
    "           .size()\n",
    "           .rename_axis(index=['year', 'month'],)\n",
    "           .reset_index())\n",
    "\n",
    "monthly_unique.columns.values[2] = \"number_of_unique_visitors\"\n",
    "monthly_unique"
   ]
  },
  {
   "cell_type": "code",
   "execution_count": 221,
   "id": "cb242658-217f-43a5-ab51-1678f1755a9e",
   "metadata": {},
   "outputs": [
    {
     "data": {
      "image/png": "[encoded data removed]",
      "text/plain": [
       "<Figure size 1440x720 with 1 Axes>"
      ]
     },
     "metadata": {},
     "output_type": "display_data"
    }
   ],
   "source": [
    "fig, ax = plt.subplots(nrows=1, ncols=1, figsize=(20,10))\n",
    "\n",
    "\n",
    "# plotting for each year, by month\n",
    "# years prior to, and including, 2019\n",
    "years = [2015, 2016, 2017, 2018]\n",
    "i = 0\n",
    "for year in years:\n",
    "    sub = monthly_unique[monthly_unique['year'] == year]\n",
    "    ax.plot(sub['month'], sub['number_of_unique_visitors'], label=year, c='black')\n",
    "    i += 1\n",
    "\n",
    "\n",
    "# years of 2019 to present    \n",
    "years = [2019,2020, 2021, 2022]\n",
    "i = 0\n",
    "for year in years:\n",
    "    sub = monthly_unique[monthly_unique['year'] == year]\n",
    "    ax.plot(sub['month'], sub['number_of_unique_visitors'], label=year)\n",
    "    i += 1    \n",
    "    \n",
    "# x-axis ticks\n",
    "plt.gca().xaxis.set_major_formatter(mtick.FuncFormatter(lambda x,p:getMonthName(x)))\n",
    "ax.set_xticks(np.arange(1, 13, 1.0))  \n",
    "\n",
    "# legend\n",
    "ax.legend(loc=\"upper left\")\n",
    "\n",
    "plt.title('Number of Unique Accounts Submitting Issues from 2015 to Present', fontsize=20)\n",
    "plt.xticks(fontsize=15)\n",
    "plt.yticks(fontsize=15)\n",
    "plt.style.use('seaborn-whitegrid')    \n",
    "plt.show()"
   ]
  },
  {
   "cell_type": "markdown",
   "id": "3b237dc7-995c-43f7-988f-fefbcd7674f5",
   "metadata": {},
   "source": [
    "Insights:\n",
    "> The increase in volume of tickets does follow the trend of the increase of unique submitters.\n",
    "\n",
    "\n",
    "* Number of unique users held steady each year for the 2015 to 2019 period.\n",
    "* March of 2020, **something** happened to the community - the level of unique users submitting tickets rose sharply, from ~55 to ~130  users for the month of March.\n",
    "* Since that period, the levels of unique users has continued to be maintained.\n",
    "* Assumptions as to why the levels rose drastically can be due to COVID, as the pandemic also began March 2020.\n",
    "> The reasoning behind this spike required further digging. I'd like to look into the number of enterprises utilizing Apache Airflow, as an influx of large corporations could also influence the large spike in activity from community members."
   ]
  },
  {
   "cell_type": "code",
   "execution_count": null,
   "id": "b1cdc810-b03e-4fa8-92ca-fea4076781ff",
   "metadata": {},
   "outputs": [],
   "source": []
  },
  {
   "cell_type": "markdown",
   "id": "e3053526-993e-4a24-98d4-d6e49c2bdd00",
   "metadata": {},
   "source": [
    "# Part 3c: Length of Time for a Ticket to Close <a class=\"anchor\" id=\"3c\"></a>\n",
    "\n",
    "[return to TOC](#TOC)"
   ]
  },
  {
   "cell_type": "code",
   "execution_count": 222,
   "id": "516a2032-9421-4ded-948b-b5ca0dce06b6",
   "metadata": {},
   "outputs": [],
   "source": [
    "# Create a DF containing open date and number of days closed\n",
    "df_days = df[['created_date','time_to_close']]\n",
    "\n",
    "# Remove tickets that have yet to be closed\n",
    "df_days = df_days[df_days['time_to_close'] != 'Not Closed']\n",
    "\n",
    "# Changing day values to int\n",
    "df_days['time_to_close'] = df_days['time_to_close'].astype(int)"
   ]
  },
  {
   "cell_type": "code",
   "execution_count": 223,
   "id": "a5af0315-a83c-45a4-a0fd-ae02ba2e5253",
   "metadata": {},
   "outputs": [
    {
     "data": {
      "text/html": [
       "<div>\n",
       "<style scoped>\n",
       "    .dataframe tbody tr th:only-of-type {\n",
       "        vertical-align: middle;\n",
       "    }\n",
       "\n",
       "    .dataframe tbody tr th {\n",
       "        vertical-align: top;\n",
       "    }\n",
       "\n",
       "    .dataframe thead th {\n",
       "        text-align: right;\n",
       "    }\n",
       "</style>\n",
       "<table border=\"1\" class=\"dataframe\">\n",
       "  <thead>\n",
       "    <tr style=\"text-align: right;\">\n",
       "      <th></th>\n",
       "      <th>created_date</th>\n",
       "      <th>time_to_close</th>\n",
       "    </tr>\n",
       "  </thead>\n",
       "  <tbody>\n",
       "    <tr>\n",
       "      <th>0</th>\n",
       "      <td>2022-01-08</td>\n",
       "      <td>0</td>\n",
       "    </tr>\n",
       "    <tr>\n",
       "      <th>2</th>\n",
       "      <td>2022-01-08</td>\n",
       "      <td>0</td>\n",
       "    </tr>\n",
       "    <tr>\n",
       "      <th>10</th>\n",
       "      <td>2022-01-07</td>\n",
       "      <td>0</td>\n",
       "    </tr>\n",
       "    <tr>\n",
       "      <th>14</th>\n",
       "      <td>2022-01-07</td>\n",
       "      <td>0</td>\n",
       "    </tr>\n",
       "    <tr>\n",
       "      <th>15</th>\n",
       "      <td>2022-01-07</td>\n",
       "      <td>0</td>\n",
       "    </tr>\n",
       "    <tr>\n",
       "      <th>...</th>\n",
       "      <td>...</td>\n",
       "      <td>...</td>\n",
       "    </tr>\n",
       "    <tr>\n",
       "      <th>19663</th>\n",
       "      <td>2015-06-05</td>\n",
       "      <td>2</td>\n",
       "    </tr>\n",
       "    <tr>\n",
       "      <th>19664</th>\n",
       "      <td>2015-06-05</td>\n",
       "      <td>0</td>\n",
       "    </tr>\n",
       "    <tr>\n",
       "      <th>19665</th>\n",
       "      <td>2015-06-05</td>\n",
       "      <td>12</td>\n",
       "    </tr>\n",
       "    <tr>\n",
       "      <th>19666</th>\n",
       "      <td>2015-04-20</td>\n",
       "      <td>0</td>\n",
       "    </tr>\n",
       "    <tr>\n",
       "      <th>19667</th>\n",
       "      <td>2015-04-20</td>\n",
       "      <td>0</td>\n",
       "    </tr>\n",
       "  </tbody>\n",
       "</table>\n",
       "<p>18720 rows × 2 columns</p>\n",
       "</div>"
      ],
      "text/plain": [
       "      created_date  time_to_close\n",
       "0       2022-01-08              0\n",
       "2       2022-01-08              0\n",
       "10      2022-01-07              0\n",
       "14      2022-01-07              0\n",
       "15      2022-01-07              0\n",
       "...            ...            ...\n",
       "19663   2015-06-05              2\n",
       "19664   2015-06-05              0\n",
       "19665   2015-06-05             12\n",
       "19666   2015-04-20              0\n",
       "19667   2015-04-20              0\n",
       "\n",
       "[18720 rows x 2 columns]"
      ]
     },
     "execution_count": 223,
     "metadata": {},
     "output_type": "execute_result"
    }
   ],
   "source": [
    "df_days"
   ]
  },
  {
   "cell_type": "markdown",
   "id": "cb7616a9-8baf-4ad1-9975-ade5aeb37170",
   "metadata": {},
   "source": [
    "## Outlier Detection"
   ]
  },
  {
   "cell_type": "markdown",
   "id": "5660424b-0cce-49f2-98fc-c0af9d6e3557",
   "metadata": {},
   "source": [
    "####  Average time for a ticket to close since 2015"
   ]
  },
  {
   "cell_type": "code",
   "execution_count": 224,
   "id": "138b385f-06f5-42f6-a32f-db03f876f8ff",
   "metadata": {},
   "outputs": [
    {
     "data": {
      "text/plain": [
       "40.40587606837607"
      ]
     },
     "execution_count": 224,
     "metadata": {},
     "output_type": "execute_result"
    }
   ],
   "source": [
    "df_days.time_to_close.mean()"
   ]
  },
  {
   "cell_type": "markdown",
   "id": "f20239ee-ec47-4c44-88d9-3725f799c620",
   "metadata": {},
   "source": [
    "This seams awfully long (over a month for a ticket to close is a very long time). Since we took the mean, let's check the median time."
   ]
  },
  {
   "cell_type": "code",
   "execution_count": 225,
   "id": "b07866ab-a24a-48e4-b7b4-626a33ee9dda",
   "metadata": {},
   "outputs": [
    {
     "name": "stdout",
     "output_type": "stream",
     "text": [
      "The median is 1.0\n",
      "The mode is 0\n"
     ]
    }
   ],
   "source": [
    "from statistics import mode\n",
    "\n",
    "print(\"The median is\", df_days.time_to_close.median())\n",
    "print(\"The mode is\", mode(df_days.time_to_close))"
   ]
  },
  {
   "cell_type": "markdown",
   "id": "6f40a85d-0f04-44f4-ae9f-e64b4dd58915",
   "metadata": {},
   "source": [
    "Median number of days is one and the mode is zero, which implies that most tickets are solved fairly quickly (by the next day). The mean is, therefore, influenced by a number of outliers. Let's find and eliminate them."
   ]
  },
  {
   "cell_type": "markdown",
   "id": "2a07571a-5afd-4468-a725-45ff21745ec4",
   "metadata": {},
   "source": [
    "### Looking at outliers for the number of days a ticket has been opened for"
   ]
  },
  {
   "cell_type": "code",
   "execution_count": 226,
   "id": "c80823f2-cf6e-4a33-8470-f14cdb44b8b0",
   "metadata": {},
   "outputs": [
    {
     "data": {
      "text/plain": [
       "0       6644\n",
       "1       2939\n",
       "2       1141\n",
       "3        710\n",
       "4        532\n",
       "        ... \n",
       "810        1\n",
       "736        1\n",
       "203        1\n",
       "472        1\n",
       "1733       1\n",
       "Name: time_to_close, Length: 654, dtype: int64"
      ]
     },
     "execution_count": 226,
     "metadata": {},
     "output_type": "execute_result"
    }
   ],
   "source": [
    "df_days.time_to_close.value_counts()"
   ]
  },
  {
   "cell_type": "code",
   "execution_count": 227,
   "id": "d8f30733-90b6-45c4-b806-005672b314d5",
   "metadata": {},
   "outputs": [
    {
     "data": {
      "image/png": "[encoded data removed]",
      "text/plain": [
       "<Figure size 720x576 with 1 Axes>"
      ]
     },
     "metadata": {},
     "output_type": "display_data"
    }
   ],
   "source": [
    "# Box plot to look at the number of days a ticket has been opened for.\n",
    "fig, ax = plt.subplots(figsize=(10,8))\n",
    "sns.boxplot(x=df_days.time_to_close)\n",
    "plt.show()"
   ]
  },
  {
   "cell_type": "code",
   "execution_count": 228,
   "id": "2d382538-27c2-41bd-82de-d9e0c1f9436c",
   "metadata": {},
   "outputs": [
    {
     "data": {
      "text/plain": [
       "count    18720.000000\n",
       "mean        40.405876\n",
       "std        144.314739\n",
       "min          0.000000\n",
       "25%          0.000000\n",
       "50%          1.000000\n",
       "75%         14.000000\n",
       "max       1733.000000\n",
       "Name: time_to_close, dtype: float64"
      ]
     },
     "execution_count": 228,
     "metadata": {},
     "output_type": "execute_result"
    }
   ],
   "source": [
    "df_days.time_to_close.describe()"
   ]
  },
  {
   "cell_type": "code",
   "execution_count": null,
   "id": "1442f0b6-62d4-48d1-b9e9-89f885807ddc",
   "metadata": {},
   "outputs": [],
   "source": []
  },
  {
   "cell_type": "markdown",
   "id": "93d0bfad-9a21-415f-9e52-d444daf1860e",
   "metadata": {},
   "source": [
    "### Removing outliers"
   ]
  },
  {
   "cell_type": "code",
   "execution_count": 229,
   "id": "a072410b-f515-4444-99a9-f5eba0f4a48a",
   "metadata": {},
   "outputs": [],
   "source": [
    "drop_numerical_outliers(df_days)"
   ]
  },
  {
   "cell_type": "code",
   "execution_count": 230,
   "id": "ca9a72ca-4600-4eb2-baf7-153cd0a2d377",
   "metadata": {},
   "outputs": [
    {
     "data": {
      "image/png": "[encoded data removed]",
      "text/plain": [
       "<Figure size 720x576 with 1 Axes>"
      ]
     },
     "metadata": {},
     "output_type": "display_data"
    }
   ],
   "source": [
    "# Box plot to look at the number of days a ticket has been opened for.\n",
    "fig, ax = plt.subplots(figsize=(10,8))\n",
    "sns.boxplot(x=df_days.time_to_close)\n",
    "plt.show()"
   ]
  },
  {
   "cell_type": "code",
   "execution_count": 231,
   "id": "2b1f2f95-0ab8-4a4f-bec5-fbe8ca73280a",
   "metadata": {},
   "outputs": [
    {
     "data": {
      "text/plain": [
       "count    18420.000000\n",
       "mean        25.650977\n",
       "std         65.006554\n",
       "min          0.000000\n",
       "25%          0.000000\n",
       "50%          1.000000\n",
       "75%         12.000000\n",
       "max        473.000000\n",
       "Name: time_to_close, dtype: float64"
      ]
     },
     "execution_count": 231,
     "metadata": {},
     "output_type": "execute_result"
    }
   ],
   "source": [
    "df_days.time_to_close.describe()"
   ]
  },
  {
   "cell_type": "code",
   "execution_count": null,
   "id": "f6f593a6-0de0-4c60-b828-fb03d1b8b9d9",
   "metadata": {},
   "outputs": [],
   "source": []
  },
  {
   "cell_type": "markdown",
   "id": "fb40476b-e4ee-48f7-b445-5365cbce89d7",
   "metadata": {},
   "source": [
    "## Analyzing Ticket Completion Time"
   ]
  },
  {
   "cell_type": "code",
   "execution_count": 232,
   "id": "6d3556bb-153d-45af-8646-8a389f0cdc81",
   "metadata": {},
   "outputs": [],
   "source": [
    "df_days['year'] = df_days.created_date.apply(lambda x: x.year)\n",
    "df_days['month'] = df_days.created_date.apply(lambda x: x.month)"
   ]
  },
  {
   "cell_type": "code",
   "execution_count": 233,
   "id": "e2b8b85f-a1c0-425c-a6db-cee0b72da2db",
   "metadata": {},
   "outputs": [
    {
     "data": {
      "text/html": [
       "<div>\n",
       "<style scoped>\n",
       "    .dataframe tbody tr th:only-of-type {\n",
       "        vertical-align: middle;\n",
       "    }\n",
       "\n",
       "    .dataframe tbody tr th {\n",
       "        vertical-align: top;\n",
       "    }\n",
       "\n",
       "    .dataframe thead th {\n",
       "        text-align: right;\n",
       "    }\n",
       "</style>\n",
       "<table border=\"1\" class=\"dataframe\">\n",
       "  <thead>\n",
       "    <tr style=\"text-align: right;\">\n",
       "      <th></th>\n",
       "      <th>year</th>\n",
       "      <th>month</th>\n",
       "      <th>number_of_tickets</th>\n",
       "      <th>average_time_total</th>\n",
       "    </tr>\n",
       "  </thead>\n",
       "  <tbody>\n",
       "    <tr>\n",
       "      <th>0</th>\n",
       "      <td>2015</td>\n",
       "      <td>4</td>\n",
       "      <td>2</td>\n",
       "      <td>0.00</td>\n",
       "    </tr>\n",
       "    <tr>\n",
       "      <th>1</th>\n",
       "      <td>2015</td>\n",
       "      <td>6</td>\n",
       "      <td>95</td>\n",
       "      <td>6.32</td>\n",
       "    </tr>\n",
       "    <tr>\n",
       "      <th>2</th>\n",
       "      <td>2015</td>\n",
       "      <td>7</td>\n",
       "      <td>107</td>\n",
       "      <td>10.57</td>\n",
       "    </tr>\n",
       "    <tr>\n",
       "      <th>3</th>\n",
       "      <td>2015</td>\n",
       "      <td>8</td>\n",
       "      <td>121</td>\n",
       "      <td>22.46</td>\n",
       "    </tr>\n",
       "    <tr>\n",
       "      <th>4</th>\n",
       "      <td>2015</td>\n",
       "      <td>9</td>\n",
       "      <td>132</td>\n",
       "      <td>27.33</td>\n",
       "    </tr>\n",
       "    <tr>\n",
       "      <th>...</th>\n",
       "      <td>...</td>\n",
       "      <td>...</td>\n",
       "      <td>...</td>\n",
       "      <td>...</td>\n",
       "    </tr>\n",
       "    <tr>\n",
       "      <th>76</th>\n",
       "      <td>2021</td>\n",
       "      <td>9</td>\n",
       "      <td>531</td>\n",
       "      <td>8.02</td>\n",
       "    </tr>\n",
       "    <tr>\n",
       "      <th>77</th>\n",
       "      <td>2021</td>\n",
       "      <td>10</td>\n",
       "      <td>501</td>\n",
       "      <td>9.15</td>\n",
       "    </tr>\n",
       "    <tr>\n",
       "      <th>78</th>\n",
       "      <td>2021</td>\n",
       "      <td>11</td>\n",
       "      <td>390</td>\n",
       "      <td>5.78</td>\n",
       "    </tr>\n",
       "    <tr>\n",
       "      <th>79</th>\n",
       "      <td>2021</td>\n",
       "      <td>12</td>\n",
       "      <td>474</td>\n",
       "      <td>3.46</td>\n",
       "    </tr>\n",
       "    <tr>\n",
       "      <th>80</th>\n",
       "      <td>2022</td>\n",
       "      <td>1</td>\n",
       "      <td>86</td>\n",
       "      <td>0.55</td>\n",
       "    </tr>\n",
       "  </tbody>\n",
       "</table>\n",
       "<p>81 rows × 4 columns</p>\n",
       "</div>"
      ],
      "text/plain": [
       "    year  month  number_of_tickets  average_time_total\n",
       "0   2015      4                  2                0.00\n",
       "1   2015      6                 95                6.32\n",
       "2   2015      7                107               10.57\n",
       "3   2015      8                121               22.46\n",
       "4   2015      9                132               27.33\n",
       "..   ...    ...                ...                 ...\n",
       "76  2021      9                531                8.02\n",
       "77  2021     10                501                9.15\n",
       "78  2021     11                390                5.78\n",
       "79  2021     12                474                3.46\n",
       "80  2022      1                 86                0.55\n",
       "\n",
       "[81 rows x 4 columns]"
      ]
     },
     "execution_count": 233,
     "metadata": {},
     "output_type": "execute_result"
    }
   ],
   "source": [
    "monthly_ticket_time = (df_days.groupby([df_days.year, df_days.month])\n",
    "           .agg(number_of_tickets=('time_to_close', 'size'), average_time_total=('time_to_close', 'mean'))\n",
    "           .reset_index())\n",
    "\n",
    "\n",
    "monthly_ticket_time['average_time_total'] = round(monthly_ticket_time['average_time_total'],2)\n",
    "monthly_ticket_time"
   ]
  },
  {
   "cell_type": "code",
   "execution_count": 234,
   "id": "fd03b4c7-8428-438f-b0ee-d50bf1af810b",
   "metadata": {},
   "outputs": [
    {
     "data": {
      "image/png": "[encoded data removed]",
      "text/plain": [
       "<Figure size 1440x720 with 2 Axes>"
      ]
     },
     "metadata": {},
     "output_type": "display_data"
    }
   ],
   "source": [
    "fig, ax = plt.subplots(nrows=1, ncols=1, figsize=(20,10))\n",
    "\n",
    "\n",
    "sub = monthly_ticket_time[monthly_ticket_time['year'] == 2021]\n",
    "ax.plot(sub['month'], sub['number_of_tickets'], label=2021, c = 'blue')\n",
    "ax.set_ylabel(\"Number of Tickets\",color=\"blue\",fontsize=15)\n",
    "\n",
    "ax2=ax.twinx()\n",
    "sub2 = monthly_ticket_time[monthly_ticket_time['year'] == 2021]\n",
    "ax2.plot(sub2['month'], sub2['average_time_total'], label=2021, c = 'black')\n",
    "ax2.set_ylabel(\"Average Time to Complete Ticket\",color=\"black\",fontsize=15)   \n",
    "    \n",
    "# x-axis ticks\n",
    "plt.gca().xaxis.set_major_formatter(mtick.FuncFormatter(lambda x,p:getMonthName(x)))\n",
    "ax.set_xticks(np.arange(1, 13, 1.0))  \n",
    "\n",
    "plt.title('Volume of Tickets vs. Completion Time, 2021', fontsize=20)\n",
    "plt.rcParams['font.size'] = '15'\n",
    "plt.style.use('seaborn-whitegrid')    \n",
    "plt.show()"
   ]
  },
  {
   "cell_type": "markdown",
   "id": "f4eedfde-66b8-4600-9d49-ed6168fd031a",
   "metadata": {},
   "source": [
    "* We're able to see an interesting (and positive) trend here: although the volume of tickets held at roughly the same level for 2021, the time it took from ticket creation to completion was on the decline!\n",
    "> This is good news -- it may imply that community engagement is increasing (quicker response times from members) and documentation/knowledge quality is improving."
   ]
  },
  {
   "cell_type": "code",
   "execution_count": 235,
   "id": "cac57456-060e-4212-b227-3fd04184760a",
   "metadata": {},
   "outputs": [
    {
     "data": {
      "image/png": "[encoded data removed]",
      "text/plain": [
       "<Figure size 1440x720 with 2 Axes>"
      ]
     },
     "metadata": {},
     "output_type": "display_data"
    }
   ],
   "source": [
    "fig, ax = plt.subplots(nrows=1, ncols=1, figsize=(20,10))\n",
    "\n",
    "\n",
    "sub = monthly_ticket_time[monthly_ticket_time['year'] == 2020]\n",
    "ax.plot(sub['month'], sub['number_of_tickets'], label=2020, c = 'green')\n",
    "ax.set_ylabel(\"Number of Tickets\",color=\"green\",fontsize=15)\n",
    "\n",
    "ax2=ax.twinx()\n",
    "sub2 = monthly_ticket_time[monthly_ticket_time['year'] == 2020]\n",
    "ax2.plot(sub2['month'], sub2['average_time_total'], label=2020, c = 'black')\n",
    "ax2.set_ylabel(\"Average Time to Complete Ticket\",color=\"black\",fontsize=15)\n",
    "    \n",
    "# x-axis ticks\n",
    "plt.gca().xaxis.set_major_formatter(mtick.FuncFormatter(lambda x,p:getMonthName(x)))\n",
    "ax.set_xticks(np.arange(1, 13, 1.0))  \n",
    "\n",
    "plt.title('Volume of Tickets vs. Completion Timel, 2020', fontsize=20)\n",
    "plt.rcParams['font.size'] = '15'\n",
    "plt.style.use('seaborn-whitegrid')    \n",
    "plt.show()"
   ]
  },
  {
   "cell_type": "code",
   "execution_count": null,
   "id": "59a64380-179a-4644-9871-4f2eb5f5231a",
   "metadata": {},
   "outputs": [],
   "source": []
  },
  {
   "cell_type": "code",
   "execution_count": null,
   "id": "9eaf53c1-097a-4b7d-9b0c-03269a42b715",
   "metadata": {},
   "outputs": [],
   "source": []
  },
  {
   "cell_type": "markdown",
   "id": "f83b7a25-67ac-4008-96bb-bcb99df4b3d4",
   "metadata": {},
   "source": [
    "# Part 3d: Removing Outliers from Numerical Columns with Z-Score Method <a class=\"anchor\" id=\"3d\"></a>\n",
    "\n",
    "[return to TOC](#TOC)"
   ]
  },
  {
   "cell_type": "code",
   "execution_count": 236,
   "id": "9c655a63-6c45-4ade-9c9f-3fa6ef29e814",
   "metadata": {},
   "outputs": [],
   "source": [
    "df_cleaned = df.copy()"
   ]
  },
  {
   "cell_type": "code",
   "execution_count": 237,
   "id": "ee993868-1bd6-4c98-b8ac-19196734a6fe",
   "metadata": {},
   "outputs": [],
   "source": [
    "drop_numerical_outliers(df_cleaned)"
   ]
  },
  {
   "cell_type": "code",
   "execution_count": 238,
   "id": "fed925e6-f450-452a-9ad5-0f4522f2846a",
   "metadata": {},
   "outputs": [
    {
     "data": {
      "text/html": [
       "<div>\n",
       "<style scoped>\n",
       "    .dataframe tbody tr th:only-of-type {\n",
       "        vertical-align: middle;\n",
       "    }\n",
       "\n",
       "    .dataframe tbody tr th {\n",
       "        vertical-align: top;\n",
       "    }\n",
       "\n",
       "    .dataframe thead th {\n",
       "        text-align: right;\n",
       "    }\n",
       "</style>\n",
       "<table border=\"1\" class=\"dataframe\">\n",
       "  <thead>\n",
       "    <tr style=\"text-align: right;\">\n",
       "      <th></th>\n",
       "      <th>comments</th>\n",
       "      <th>length_of_title</th>\n",
       "      <th>length_of_body</th>\n",
       "      <th>n_labels</th>\n",
       "    </tr>\n",
       "  </thead>\n",
       "  <tbody>\n",
       "    <tr>\n",
       "      <th>count</th>\n",
       "      <td>18886.000000</td>\n",
       "      <td>18886.000000</td>\n",
       "      <td>18886.000000</td>\n",
       "      <td>18886.000000</td>\n",
       "    </tr>\n",
       "    <tr>\n",
       "      <th>mean</th>\n",
       "      <td>3.462035</td>\n",
       "      <td>50.322514</td>\n",
       "      <td>1367.132532</td>\n",
       "      <td>1.190088</td>\n",
       "    </tr>\n",
       "    <tr>\n",
       "      <th>std</th>\n",
       "      <td>3.674687</td>\n",
       "      <td>16.716960</td>\n",
       "      <td>1144.578102</td>\n",
       "      <td>1.217766</td>\n",
       "    </tr>\n",
       "    <tr>\n",
       "      <th>min</th>\n",
       "      <td>0.000000</td>\n",
       "      <td>1.000000</td>\n",
       "      <td>0.000000</td>\n",
       "      <td>0.000000</td>\n",
       "    </tr>\n",
       "    <tr>\n",
       "      <th>25%</th>\n",
       "      <td>1.000000</td>\n",
       "      <td>39.000000</td>\n",
       "      <td>648.250000</td>\n",
       "      <td>0.000000</td>\n",
       "    </tr>\n",
       "    <tr>\n",
       "      <th>50%</th>\n",
       "      <td>2.000000</td>\n",
       "      <td>50.000000</td>\n",
       "      <td>1247.000000</td>\n",
       "      <td>1.000000</td>\n",
       "    </tr>\n",
       "    <tr>\n",
       "      <th>75%</th>\n",
       "      <td>5.000000</td>\n",
       "      <td>61.000000</td>\n",
       "      <td>1700.000000</td>\n",
       "      <td>2.000000</td>\n",
       "    </tr>\n",
       "    <tr>\n",
       "      <th>max</th>\n",
       "      <td>20.000000</td>\n",
       "      <td>106.000000</td>\n",
       "      <td>9642.000000</td>\n",
       "      <td>5.000000</td>\n",
       "    </tr>\n",
       "  </tbody>\n",
       "</table>\n",
       "</div>"
      ],
      "text/plain": [
       "           comments  length_of_title  length_of_body      n_labels\n",
       "count  18886.000000     18886.000000    18886.000000  18886.000000\n",
       "mean       3.462035        50.322514     1367.132532      1.190088\n",
       "std        3.674687        16.716960     1144.578102      1.217766\n",
       "min        0.000000         1.000000        0.000000      0.000000\n",
       "25%        1.000000        39.000000      648.250000      0.000000\n",
       "50%        2.000000        50.000000     1247.000000      1.000000\n",
       "75%        5.000000        61.000000     1700.000000      2.000000\n",
       "max       20.000000       106.000000     9642.000000      5.000000"
      ]
     },
     "execution_count": 238,
     "metadata": {},
     "output_type": "execute_result"
    }
   ],
   "source": [
    "df_cleaned.describe()"
   ]
  },
  {
   "cell_type": "markdown",
   "id": "057b35aa-889c-4674-a9c6-e47d30d503db",
   "metadata": {},
   "source": [
    "Distribution before outlier removal:"
   ]
  },
  {
   "cell_type": "code",
   "execution_count": 239,
   "id": "cb876628-17f2-4769-a48c-64fe5e5821c1",
   "metadata": {},
   "outputs": [
    {
     "data": {
      "image/png": "[encoded data removed]",
      "text/plain": [
       "<Figure size 720x576 with 4 Axes>"
      ]
     },
     "metadata": {},
     "output_type": "display_data"
    }
   ],
   "source": [
    "fig, ax = plt.subplots(2,2, figsize=(10,8))\n",
    "\n",
    "sns.boxplot(ax=ax[0,0], x=df.comments)\n",
    "sns.boxplot(ax=ax[0,1], x=df.length_of_title)\n",
    "sns.boxplot(ax=ax[1,0], x=df.length_of_body)\n",
    "sns.boxplot(ax=ax[1,1], x=df.n_labels)\n",
    "\n",
    "plt.show()"
   ]
  },
  {
   "cell_type": "markdown",
   "id": "f624965a-da2e-4148-ba53-37c41854b4a3",
   "metadata": {},
   "source": [
    "Distribution **after** outlier removal:"
   ]
  },
  {
   "cell_type": "code",
   "execution_count": 240,
   "id": "46bbff26-893d-4816-8372-a1fb9cd39cd1",
   "metadata": {},
   "outputs": [
    {
     "data": {
      "image/png": "[encoded data removed]",
      "text/plain": [
       "<Figure size 720x576 with 4 Axes>"
      ]
     },
     "metadata": {},
     "output_type": "display_data"
    }
   ],
   "source": [
    "fig, ax = plt.subplots(2,2, figsize=(10,8))\n",
    "\n",
    "sns.boxplot(ax=ax[0,0], x=df_cleaned.comments)\n",
    "sns.boxplot(ax=ax[0,1], x=df_cleaned.length_of_title)\n",
    "sns.boxplot(ax=ax[1,0], x=df_cleaned.length_of_body)\n",
    "sns.boxplot(ax=ax[1,1], x=df_cleaned.n_labels)\n",
    "\n",
    "plt.show()"
   ]
  },
  {
   "cell_type": "code",
   "execution_count": 241,
   "id": "c3c43c68-f833-40de-8d48-1ba03f8e614b",
   "metadata": {},
   "outputs": [
    {
     "data": {
      "text/plain": [
       "Text(0, 0.5, 'Number of Labels')"
      ]
     },
     "execution_count": 241,
     "metadata": {},
     "output_type": "execute_result"
    },
    {
     "data": {
      "image/png": "[encoded data removed]",
      "text/plain": [
       "<Figure size 1152x576 with 1 Axes>"
      ]
     },
     "metadata": {},
     "output_type": "display_data"
    }
   ],
   "source": [
    "fig, ax = plt.subplots(figsize=(16,8))\n",
    "\n",
    "x = df_cleaned.comments\n",
    "y = df_cleaned.n_labels\n",
    "\n",
    "x2 = df.comments\n",
    "y2 = df.n_labels\n",
    "\n",
    "plt.scatter(x2, y2, alpha=0.1, c='red')\n",
    "plt.scatter(x, y, alpha=0.1, c='green')\n",
    "\n",
    "\n",
    "plt.xlabel('Comments')\n",
    "plt.ylabel('Number of Labels')"
   ]
  },
  {
   "cell_type": "code",
   "execution_count": null,
   "id": "4b8bf9d7-4100-4bcd-a320-2e5ff76fe5e1",
   "metadata": {},
   "outputs": [],
   "source": []
  },
  {
   "cell_type": "code",
   "execution_count": null,
   "id": "304c2fd6-8cc7-467f-9abe-a73ef31639fb",
   "metadata": {},
   "outputs": [],
   "source": []
  },
  {
   "cell_type": "code",
   "execution_count": null,
   "id": "5ec1e846-a737-428b-88ef-ed52fade5e9c",
   "metadata": {},
   "outputs": [],
   "source": []
  },
  {
   "cell_type": "code",
   "execution_count": null,
   "id": "1cb75e6c-ed8f-4eb3-8847-5076c7bb02e4",
   "metadata": {},
   "outputs": [],
   "source": []
  },
  {
   "cell_type": "markdown",
   "id": "63dbcaeb",
   "metadata": {},
   "source": [
    "# Part 4: Machine Learning (Regression to Predict Ticket Resolution Time)<a class=\"anchor\" id=\"4\"></a>"
   ]
  },
  {
   "cell_type": "markdown",
   "id": "1e1e7314-cd9b-4fc1-950a-7957c910c32c",
   "metadata": {},
   "source": [
    "[return to TOC](#TOC)"
   ]
  },
  {
   "cell_type": "code",
   "execution_count": 242,
   "id": "4183d2dd-3b48-4202-a162-2f59e007de19",
   "metadata": {},
   "outputs": [],
   "source": [
    "from sklearn.linear_model import LinearRegression\n",
    "from sklearn.model_selection import train_test_split\n",
    "import sklearn.metrics as metrics\n",
    "from sklearn.metrics import roc_curve, roc_auc_score\n"
   ]
  },
  {
   "cell_type": "markdown",
   "id": "2387243c-9507-4d1d-89fa-8de413929bf1",
   "metadata": {},
   "source": [
    "### We will dive into developing a model to help us predict the amount of time a ticket will be resolved based on the information available when the ticket is submitted."
   ]
  },
  {
   "cell_type": "code",
   "execution_count": 243,
   "id": "6a2d22d8-3637-4991-8169-9d5d77836f20",
   "metadata": {},
   "outputs": [
    {
     "data": {
      "text/plain": [
       "closed    18720\n",
       "open        909\n",
       "Name: state, dtype: int64"
      ]
     },
     "execution_count": 243,
     "metadata": {},
     "output_type": "execute_result"
    }
   ],
   "source": [
    "'''\n",
    "Now that we understand our data better, let's see if we can predict \n",
    "whether or not an issue is closed given other attributes.\n",
    "Should we treat all issues created over the years the same?\n",
    "\n",
    "We notice that the classes are not balanced. Probably a good idea to address that.\n",
    "\n",
    "'''\n",
    "\n",
    "df.state.value_counts()"
   ]
  },
  {
   "cell_type": "markdown",
   "id": "e326308b-7908-4af7-ab32-28c65718ac00",
   "metadata": {},
   "source": [
    "### Since we're looking at tickets already closed, we'll remove the ones opened."
   ]
  },
  {
   "cell_type": "code",
   "execution_count": 244,
   "id": "85bf5c51-cdbf-45e0-a502-c3987ed9dcc7",
   "metadata": {},
   "outputs": [
    {
     "data": {
      "text/plain": [
       "closed    18045\n",
       "Name: state, dtype: int64"
      ]
     },
     "execution_count": 244,
     "metadata": {},
     "output_type": "execute_result"
    }
   ],
   "source": [
    "df_ml = df_cleaned[df_cleaned['state'] == 'closed']\n",
    "df_ml.state.value_counts()"
   ]
  },
  {
   "cell_type": "code",
   "execution_count": 245,
   "id": "90d5d35d-8e78-493e-9bba-3cd13758d3bb",
   "metadata": {},
   "outputs": [],
   "source": [
    "# To double check all tickets present are still open, we'll also remove any values labelled Not Closed from the time_to_close column.\n",
    "df_ml = df_ml[df_ml['time_to_close'] != 'Not Closed']\n",
    "\n",
    "# Changing day values to type int\n",
    "df_ml['time_to_close'] = df_ml['time_to_close'].astype(int)"
   ]
  },
  {
   "cell_type": "code",
   "execution_count": 246,
   "id": "d214f5d0-cc78-4b8f-adf1-6427c875c830",
   "metadata": {},
   "outputs": [
    {
     "data": {
      "text/plain": [
       "closed    18045\n",
       "Name: state, dtype: int64"
      ]
     },
     "execution_count": 246,
     "metadata": {},
     "output_type": "execute_result"
    }
   ],
   "source": [
    "df_ml.state.value_counts()"
   ]
  },
  {
   "cell_type": "markdown",
   "id": "42d3df8e-6d83-408f-b7f5-d893f9dac099",
   "metadata": {},
   "source": [
    "### Tickets remaining are the ones that are closed.\n",
    "\n",
    "### Remember the tickets that took hundreds of days to complete and were deemed as outliers earlier? Let's remove those as they aren't within the normal scope of ticket completion times."
   ]
  },
  {
   "cell_type": "code",
   "execution_count": 247,
   "id": "a2d9cd26-7402-4d2f-a059-8270bd0ec4f2",
   "metadata": {},
   "outputs": [
    {
     "data": {
      "text/plain": [
       "count    18045.000000\n",
       "mean        38.465447\n",
       "std        142.134164\n",
       "min          0.000000\n",
       "25%          0.000000\n",
       "50%          1.000000\n",
       "75%         12.000000\n",
       "max       1733.000000\n",
       "Name: time_to_close, dtype: float64"
      ]
     },
     "execution_count": 247,
     "metadata": {},
     "output_type": "execute_result"
    }
   ],
   "source": [
    "# before outlier removal\n",
    "df_ml.time_to_close.describe()"
   ]
  },
  {
   "cell_type": "code",
   "execution_count": 248,
   "id": "8b7653f1-3346-4356-a61b-2420004eff0a",
   "metadata": {},
   "outputs": [],
   "source": [
    "# Removing outliers for the time_to_close column. Values with a Z-score less than 3 are kept.\n",
    "\n",
    "u = df_ml.time_to_close.mean()\n",
    "sd = df_ml.time_to_close.std()\n",
    "\n",
    "df_ml['outlier'] = df_ml.time_to_close.apply(lambda x: abs((x-u)/sd) < 3)\n",
    "df_ml = df_ml[df_ml['outlier'] == True]"
   ]
  },
  {
   "cell_type": "code",
   "execution_count": 249,
   "id": "b0ad6c4f-d1a5-4cdf-a3e7-c4e1fcc7b9a3",
   "metadata": {},
   "outputs": [
    {
     "data": {
      "text/plain": [
       "count    17755.000000\n",
       "mean        23.838130\n",
       "std         61.814163\n",
       "min          0.000000\n",
       "25%          0.000000\n",
       "50%          1.000000\n",
       "75%         11.000000\n",
       "max        464.000000\n",
       "Name: time_to_close, dtype: float64"
      ]
     },
     "execution_count": 249,
     "metadata": {},
     "output_type": "execute_result"
    }
   ],
   "source": [
    "df_ml.time_to_close.describe()"
   ]
  },
  {
   "cell_type": "markdown",
   "id": "32b774f9-3041-45fd-bc6b-cde117fa6816",
   "metadata": {},
   "source": [
    "### Let's move onto feature selection"
   ]
  },
  {
   "cell_type": "code",
   "execution_count": 250,
   "id": "364c5de0",
   "metadata": {},
   "outputs": [
    {
     "data": {
      "text/html": [
       "<div>\n",
       "<style scoped>\n",
       "    .dataframe tbody tr th:only-of-type {\n",
       "        vertical-align: middle;\n",
       "    }\n",
       "\n",
       "    .dataframe tbody tr th {\n",
       "        vertical-align: top;\n",
       "    }\n",
       "\n",
       "    .dataframe thead th {\n",
       "        text-align: right;\n",
       "    }\n",
       "</style>\n",
       "<table border=\"1\" class=\"dataframe\">\n",
       "  <thead>\n",
       "    <tr style=\"text-align: right;\">\n",
       "      <th></th>\n",
       "      <th>comments</th>\n",
       "      <th>has_pull_request</th>\n",
       "      <th>has_comment</th>\n",
       "      <th>has_assignee</th>\n",
       "      <th>contributor</th>\n",
       "      <th>member</th>\n",
       "      <th>collaborator</th>\n",
       "      <th>not_a_member</th>\n",
       "      <th>length_of_title</th>\n",
       "      <th>length_of_body</th>\n",
       "      <th>n_labels</th>\n",
       "      <th>label_area_dev_tools</th>\n",
       "      <th>label_area_providers</th>\n",
       "      <th>label_area_webserver</th>\n",
       "      <th>label_full_tests_needed</th>\n",
       "      <th>label_kind_bug</th>\n",
       "      <th>label_kind_documentation</th>\n",
       "      <th>label_kind_feature</th>\n",
       "      <th>label_okay_to_merge</th>\n",
       "      <th>label_provider_Google</th>\n",
       "      <th>frequent_issue_creator</th>\n",
       "    </tr>\n",
       "  </thead>\n",
       "  <tbody>\n",
       "    <tr>\n",
       "      <th>0</th>\n",
       "      <td>3</td>\n",
       "      <td>True</td>\n",
       "      <td>True</td>\n",
       "      <td>False</td>\n",
       "      <td>True</td>\n",
       "      <td>False</td>\n",
       "      <td>False</td>\n",
       "      <td>False</td>\n",
       "      <td>27</td>\n",
       "      <td>1266</td>\n",
       "      <td>3</td>\n",
       "      <td>False</td>\n",
       "      <td>True</td>\n",
       "      <td>False</td>\n",
       "      <td>False</td>\n",
       "      <td>False</td>\n",
       "      <td>False</td>\n",
       "      <td>False</td>\n",
       "      <td>True</td>\n",
       "      <td>False</td>\n",
       "      <td>False</td>\n",
       "    </tr>\n",
       "    <tr>\n",
       "      <th>2</th>\n",
       "      <td>1</td>\n",
       "      <td>True</td>\n",
       "      <td>True</td>\n",
       "      <td>False</td>\n",
       "      <td>False</td>\n",
       "      <td>True</td>\n",
       "      <td>False</td>\n",
       "      <td>False</td>\n",
       "      <td>54</td>\n",
       "      <td>1072</td>\n",
       "      <td>4</td>\n",
       "      <td>False</td>\n",
       "      <td>True</td>\n",
       "      <td>False</td>\n",
       "      <td>False</td>\n",
       "      <td>False</td>\n",
       "      <td>True</td>\n",
       "      <td>False</td>\n",
       "      <td>True</td>\n",
       "      <td>False</td>\n",
       "      <td>True</td>\n",
       "    </tr>\n",
       "    <tr>\n",
       "      <th>10</th>\n",
       "      <td>1</td>\n",
       "      <td>True</td>\n",
       "      <td>True</td>\n",
       "      <td>False</td>\n",
       "      <td>False</td>\n",
       "      <td>True</td>\n",
       "      <td>False</td>\n",
       "      <td>False</td>\n",
       "      <td>57</td>\n",
       "      <td>1129</td>\n",
       "      <td>3</td>\n",
       "      <td>False</td>\n",
       "      <td>True</td>\n",
       "      <td>False</td>\n",
       "      <td>False</td>\n",
       "      <td>False</td>\n",
       "      <td>False</td>\n",
       "      <td>False</td>\n",
       "      <td>True</td>\n",
       "      <td>False</td>\n",
       "      <td>True</td>\n",
       "    </tr>\n",
       "    <tr>\n",
       "      <th>14</th>\n",
       "      <td>2</td>\n",
       "      <td>True</td>\n",
       "      <td>True</td>\n",
       "      <td>False</td>\n",
       "      <td>False</td>\n",
       "      <td>False</td>\n",
       "      <td>False</td>\n",
       "      <td>True</td>\n",
       "      <td>28</td>\n",
       "      <td>133</td>\n",
       "      <td>2</td>\n",
       "      <td>False</td>\n",
       "      <td>False</td>\n",
       "      <td>False</td>\n",
       "      <td>False</td>\n",
       "      <td>False</td>\n",
       "      <td>True</td>\n",
       "      <td>False</td>\n",
       "      <td>False</td>\n",
       "      <td>False</td>\n",
       "      <td>False</td>\n",
       "    </tr>\n",
       "    <tr>\n",
       "      <th>15</th>\n",
       "      <td>0</td>\n",
       "      <td>True</td>\n",
       "      <td>False</td>\n",
       "      <td>False</td>\n",
       "      <td>True</td>\n",
       "      <td>False</td>\n",
       "      <td>False</td>\n",
       "      <td>False</td>\n",
       "      <td>45</td>\n",
       "      <td>1160</td>\n",
       "      <td>1</td>\n",
       "      <td>True</td>\n",
       "      <td>False</td>\n",
       "      <td>False</td>\n",
       "      <td>False</td>\n",
       "      <td>False</td>\n",
       "      <td>False</td>\n",
       "      <td>False</td>\n",
       "      <td>False</td>\n",
       "      <td>False</td>\n",
       "      <td>True</td>\n",
       "    </tr>\n",
       "    <tr>\n",
       "      <th>...</th>\n",
       "      <td>...</td>\n",
       "      <td>...</td>\n",
       "      <td>...</td>\n",
       "      <td>...</td>\n",
       "      <td>...</td>\n",
       "      <td>...</td>\n",
       "      <td>...</td>\n",
       "      <td>...</td>\n",
       "      <td>...</td>\n",
       "      <td>...</td>\n",
       "      <td>...</td>\n",
       "      <td>...</td>\n",
       "      <td>...</td>\n",
       "      <td>...</td>\n",
       "      <td>...</td>\n",
       "      <td>...</td>\n",
       "      <td>...</td>\n",
       "      <td>...</td>\n",
       "      <td>...</td>\n",
       "      <td>...</td>\n",
       "      <td>...</td>\n",
       "    </tr>\n",
       "    <tr>\n",
       "      <th>19663</th>\n",
       "      <td>3</td>\n",
       "      <td>True</td>\n",
       "      <td>True</td>\n",
       "      <td>False</td>\n",
       "      <td>True</td>\n",
       "      <td>False</td>\n",
       "      <td>False</td>\n",
       "      <td>False</td>\n",
       "      <td>21</td>\n",
       "      <td>282</td>\n",
       "      <td>0</td>\n",
       "      <td>False</td>\n",
       "      <td>False</td>\n",
       "      <td>False</td>\n",
       "      <td>False</td>\n",
       "      <td>False</td>\n",
       "      <td>False</td>\n",
       "      <td>False</td>\n",
       "      <td>False</td>\n",
       "      <td>False</td>\n",
       "      <td>False</td>\n",
       "    </tr>\n",
       "    <tr>\n",
       "      <th>19664</th>\n",
       "      <td>3</td>\n",
       "      <td>False</td>\n",
       "      <td>True</td>\n",
       "      <td>False</td>\n",
       "      <td>True</td>\n",
       "      <td>False</td>\n",
       "      <td>False</td>\n",
       "      <td>False</td>\n",
       "      <td>21</td>\n",
       "      <td>401</td>\n",
       "      <td>0</td>\n",
       "      <td>False</td>\n",
       "      <td>False</td>\n",
       "      <td>False</td>\n",
       "      <td>False</td>\n",
       "      <td>False</td>\n",
       "      <td>False</td>\n",
       "      <td>False</td>\n",
       "      <td>False</td>\n",
       "      <td>False</td>\n",
       "      <td>False</td>\n",
       "    </tr>\n",
       "    <tr>\n",
       "      <th>19665</th>\n",
       "      <td>17</td>\n",
       "      <td>False</td>\n",
       "      <td>True</td>\n",
       "      <td>False</td>\n",
       "      <td>False</td>\n",
       "      <td>False</td>\n",
       "      <td>False</td>\n",
       "      <td>True</td>\n",
       "      <td>46</td>\n",
       "      <td>203</td>\n",
       "      <td>0</td>\n",
       "      <td>False</td>\n",
       "      <td>False</td>\n",
       "      <td>False</td>\n",
       "      <td>False</td>\n",
       "      <td>False</td>\n",
       "      <td>False</td>\n",
       "      <td>False</td>\n",
       "      <td>False</td>\n",
       "      <td>False</td>\n",
       "      <td>False</td>\n",
       "    </tr>\n",
       "    <tr>\n",
       "      <th>19666</th>\n",
       "      <td>0</td>\n",
       "      <td>True</td>\n",
       "      <td>False</td>\n",
       "      <td>False</td>\n",
       "      <td>False</td>\n",
       "      <td>True</td>\n",
       "      <td>False</td>\n",
       "      <td>False</td>\n",
       "      <td>37</td>\n",
       "      <td>0</td>\n",
       "      <td>0</td>\n",
       "      <td>False</td>\n",
       "      <td>False</td>\n",
       "      <td>False</td>\n",
       "      <td>False</td>\n",
       "      <td>False</td>\n",
       "      <td>False</td>\n",
       "      <td>False</td>\n",
       "      <td>False</td>\n",
       "      <td>False</td>\n",
       "      <td>True</td>\n",
       "    </tr>\n",
       "    <tr>\n",
       "      <th>19667</th>\n",
       "      <td>0</td>\n",
       "      <td>True</td>\n",
       "      <td>False</td>\n",
       "      <td>False</td>\n",
       "      <td>False</td>\n",
       "      <td>True</td>\n",
       "      <td>False</td>\n",
       "      <td>False</td>\n",
       "      <td>52</td>\n",
       "      <td>0</td>\n",
       "      <td>0</td>\n",
       "      <td>False</td>\n",
       "      <td>False</td>\n",
       "      <td>False</td>\n",
       "      <td>False</td>\n",
       "      <td>False</td>\n",
       "      <td>False</td>\n",
       "      <td>False</td>\n",
       "      <td>False</td>\n",
       "      <td>False</td>\n",
       "      <td>True</td>\n",
       "    </tr>\n",
       "  </tbody>\n",
       "</table>\n",
       "<p>17755 rows × 21 columns</p>\n",
       "</div>"
      ],
      "text/plain": [
       "       comments  has_pull_request  has_comment  has_assignee  contributor  \\\n",
       "0             3              True         True         False         True   \n",
       "2             1              True         True         False        False   \n",
       "10            1              True         True         False        False   \n",
       "14            2              True         True         False        False   \n",
       "15            0              True        False         False         True   \n",
       "...         ...               ...          ...           ...          ...   \n",
       "19663         3              True         True         False         True   \n",
       "19664         3             False         True         False         True   \n",
       "19665        17             False         True         False        False   \n",
       "19666         0              True        False         False        False   \n",
       "19667         0              True        False         False        False   \n",
       "\n",
       "       member  collaborator  not_a_member  length_of_title  length_of_body  \\\n",
       "0       False         False         False               27            1266   \n",
       "2        True         False         False               54            1072   \n",
       "10       True         False         False               57            1129   \n",
       "14      False         False          True               28             133   \n",
       "15      False         False         False               45            1160   \n",
       "...       ...           ...           ...              ...             ...   \n",
       "19663   False         False         False               21             282   \n",
       "19664   False         False         False               21             401   \n",
       "19665   False         False          True               46             203   \n",
       "19666    True         False         False               37               0   \n",
       "19667    True         False         False               52               0   \n",
       "\n",
       "       n_labels  label_area_dev_tools  label_area_providers  \\\n",
       "0             3                 False                  True   \n",
       "2             4                 False                  True   \n",
       "10            3                 False                  True   \n",
       "14            2                 False                 False   \n",
       "15            1                  True                 False   \n",
       "...         ...                   ...                   ...   \n",
       "19663         0                 False                 False   \n",
       "19664         0                 False                 False   \n",
       "19665         0                 False                 False   \n",
       "19666         0                 False                 False   \n",
       "19667         0                 False                 False   \n",
       "\n",
       "       label_area_webserver  label_full_tests_needed  label_kind_bug  \\\n",
       "0                     False                    False           False   \n",
       "2                     False                    False           False   \n",
       "10                    False                    False           False   \n",
       "14                    False                    False           False   \n",
       "15                    False                    False           False   \n",
       "...                     ...                      ...             ...   \n",
       "19663                 False                    False           False   \n",
       "19664                 False                    False           False   \n",
       "19665                 False                    False           False   \n",
       "19666                 False                    False           False   \n",
       "19667                 False                    False           False   \n",
       "\n",
       "       label_kind_documentation  label_kind_feature  label_okay_to_merge  \\\n",
       "0                         False               False                 True   \n",
       "2                          True               False                 True   \n",
       "10                        False               False                 True   \n",
       "14                         True               False                False   \n",
       "15                        False               False                False   \n",
       "...                         ...                 ...                  ...   \n",
       "19663                     False               False                False   \n",
       "19664                     False               False                False   \n",
       "19665                     False               False                False   \n",
       "19666                     False               False                False   \n",
       "19667                     False               False                False   \n",
       "\n",
       "       label_provider_Google  frequent_issue_creator  \n",
       "0                      False                   False  \n",
       "2                      False                    True  \n",
       "10                     False                    True  \n",
       "14                     False                   False  \n",
       "15                     False                    True  \n",
       "...                      ...                     ...  \n",
       "19663                  False                   False  \n",
       "19664                  False                   False  \n",
       "19665                  False                   False  \n",
       "19666                  False                    True  \n",
       "19667                  False                    True  \n",
       "\n",
       "[17755 rows x 21 columns]"
      ]
     },
     "execution_count": 250,
     "metadata": {},
     "output_type": "execute_result"
    }
   ],
   "source": [
    "'''\n",
    "Which of the features above should we include in our ML model?\n",
    "\n",
    "The title and body are great text features which we could do some NLP on, but maybe later.\n",
    "'''\n",
    "def split_features_and_target(df, features_ml=None):\n",
    "    target = df.time_to_close\n",
    "    df.drop([c for c in df if c not in features_ml], axis=1, inplace=True)\n",
    "    return df, target\n",
    "\n",
    "\n",
    "features_ml, target = split_features_and_target(\n",
    "    df_ml,\n",
    "    features_ml = [\n",
    "        'comments',\n",
    "        'has_pull_request', \t\n",
    "        'has_comment', \t\n",
    "        'has_assignee', \t\n",
    "        'length_of_title', \t\n",
    "        'length_of_body', \t\n",
    "        'n_labels', \t\n",
    "        'label_area_dev_tools', \t\n",
    "        'label_area_providers', \t\n",
    "        'label_area_webserver', \t\n",
    "        'label_full_tests_needed', \t\n",
    "        'label_kind_bug', \t\n",
    "        'label_kind_documentation', \t\n",
    "        'label_kind_feature', \t\n",
    "        'label_okay_to_merge', \t\n",
    "        'label_provider_Google',\t\n",
    "        'frequent_issue_creator',\n",
    "        'contributor',\n",
    "        'member',\n",
    "        'collaborator',\n",
    "        'not_a_member'\n",
    "    ]\n",
    ")\n",
    "\n",
    "features_ml"
   ]
  },
  {
   "cell_type": "code",
   "execution_count": 251,
   "id": "74f7a6a4-f790-45c5-9f56-25a6451018b7",
   "metadata": {},
   "outputs": [
    {
     "data": {
      "text/plain": [
       "0         0\n",
       "2         0\n",
       "10        0\n",
       "14        0\n",
       "15        0\n",
       "         ..\n",
       "19663     2\n",
       "19664     0\n",
       "19665    12\n",
       "19666     0\n",
       "19667     0\n",
       "Name: time_to_close, Length: 17755, dtype: int64"
      ]
     },
     "execution_count": 251,
     "metadata": {},
     "output_type": "execute_result"
    }
   ],
   "source": [
    "target"
   ]
  },
  {
   "cell_type": "code",
   "execution_count": 252,
   "id": "72febc32",
   "metadata": {},
   "outputs": [],
   "source": [
    "# Split the data for training and testing\n",
    "x_train, x_test, y_train, y_test = train_test_split(features_ml, target)"
   ]
  },
  {
   "cell_type": "markdown",
   "id": "674bf010-310b-48a3-bc10-57ea45e57b8f",
   "metadata": {},
   "source": [
    "#### Linear Regression"
   ]
  },
  {
   "cell_type": "code",
   "execution_count": 253,
   "id": "5ba74e9e-96f7-4ba8-ab4c-85ab3fbe43ef",
   "metadata": {},
   "outputs": [
    {
     "name": "stdout",
     "output_type": "stream",
     "text": [
      "R2 Train: 0.19807485928774682\n",
      "R2 Test: 0.20407542030292458\n",
      "MSE: 3248.932120535475\n"
     ]
    }
   ],
   "source": [
    "# Linear Regression\n",
    "lin_reg = LinearRegression().fit(x_train, y_train)\n",
    "\n",
    "pred_y = lin_reg.predict(x_test)\n",
    "mse = metrics.mean_squared_error(y_test, pred_y)\n",
    "\n",
    "print(\"R2 Train:\", lin_reg.score(x_train, y_train))\n",
    "print(\"R2 Test:\", lin_reg.score(x_test, y_test))\n",
    "print(\"MSE:\", mse)"
   ]
  },
  {
   "cell_type": "markdown",
   "id": "a575cc5f-7b5e-4bc0-8a9d-98dcdfd6f998",
   "metadata": {},
   "source": [
    "#### Gradient Boosting for Regression"
   ]
  },
  {
   "cell_type": "code",
   "execution_count": 254,
   "id": "92b91ecb",
   "metadata": {},
   "outputs": [
    {
     "name": "stdout",
     "output_type": "stream",
     "text": [
      "R2 Train: 0.2738783206900609\n",
      "R2 Test: 0.2254301559423284\n",
      "MSE: 3161.762948588544\n"
     ]
    }
   ],
   "source": [
    "from sklearn.ensemble import GradientBoostingRegressor\n",
    "grad_reg = GradientBoostingRegressor(random_state=0).fit(x_train, y_train)\n",
    "\n",
    "\n",
    "pred_y = grad_reg.predict(x_test)\n",
    "mse = metrics.mean_squared_error(y_test, pred_y)\n",
    "print(\"R2 Train:\", grad_reg.score(x_train, y_train))\n",
    "print(\"R2 Test:\", grad_reg.score(x_test, y_test))\n",
    "print(\"MSE:\", mse)"
   ]
  },
  {
   "cell_type": "markdown",
   "id": "f0d7d249-1730-43cd-9cf3-97f1b8d510cb",
   "metadata": {},
   "source": [
    "#### Random Forest for Regression"
   ]
  },
  {
   "cell_type": "code",
   "execution_count": 255,
   "id": "3a561a8a",
   "metadata": {},
   "outputs": [
    {
     "name": "stdout",
     "output_type": "stream",
     "text": [
      "R2 Train: 0.8828431066044327\n",
      "R2 Test: 0.1637309183503014\n",
      "MSE: 3413.6167547639725\n"
     ]
    }
   ],
   "source": [
    "from sklearn.ensemble import RandomForestRegressor\n",
    "forest_reg = RandomForestRegressor(random_state=0).fit(x_train, y_train)\n",
    "\n",
    "\n",
    "pred_y = forest_reg.predict(x_test)\n",
    "mse = metrics.mean_squared_error(y_test, pred_y)\n",
    "print(\"R2 Train:\", forest_reg.score(x_train, y_train))\n",
    "print(\"R2 Test:\", forest_reg.score(x_test, y_test))\n",
    "print(\"MSE:\", mse)"
   ]
  },
  {
   "cell_type": "markdown",
   "id": "c4261ff6-df52-4fa4-90b2-d83a9e6b9780",
   "metadata": {},
   "source": [
    "The RandomForestRegressor method is actually quite interesting! We have a textbook example of overfitting, where the train data provides us with an R2 of 0.88 and the test that of 0.15."
   ]
  },
  {
   "cell_type": "markdown",
   "id": "6fd3f27f-2f57-45ed-a898-308f749315f2",
   "metadata": {},
   "source": [
    "### ROC"
   ]
  },
  {
   "cell_type": "code",
   "execution_count": 256,
   "id": "e34d51a6-161f-4b10-b554-7d2921189e34",
   "metadata": {},
   "outputs": [],
   "source": [
    "y_pred_lin = lin_reg.predict(x_test)\n",
    "y_pred_grad = grad_reg.predict(x_test)\n",
    "y_pred_forest = forest_reg.predict(x_test)"
   ]
  },
  {
   "cell_type": "code",
   "execution_count": 257,
   "id": "b8b8bedb-60ac-4d2b-8354-818d5174d0ca",
   "metadata": {},
   "outputs": [
    {
     "name": "stdout",
     "output_type": "stream",
     "text": [
      "[29.37174822 13.07451339  0.81279647 ... 26.73792249 68.20132815\n",
      " 60.32621639]\n",
      "3858       2\n",
      "16822      1\n",
      "3483       2\n",
      "16316      6\n",
      "4276       0\n",
      "        ... \n",
      "7110       0\n",
      "18187      0\n",
      "12245      0\n",
      "9870      24\n",
      "15241    249\n",
      "Name: time_to_close, Length: 4439, dtype: int64\n"
     ]
    }
   ],
   "source": [
    "print(y_pred_lin)\n",
    "print(y_test)"
   ]
  },
  {
   "cell_type": "code",
   "execution_count": 258,
   "id": "ddea2841-61c3-45a0-99b9-7ba0d2d47b62",
   "metadata": {},
   "outputs": [],
   "source": [
    "# false_positive_rate1, true_positive_rate1, threshold1 = roc_curve(y_test, y_score1)\n"
   ]
  },
  {
   "cell_type": "code",
   "execution_count": 259,
   "id": "55aacfcf-0328-47e2-a7e5-680c7082d120",
   "metadata": {},
   "outputs": [],
   "source": [
    "# print('roc_auc_score for Linear Regression: ', roc_auc_score(y_test, y_score1))\n",
    "# print('roc_auc_score for Gradient Boost Regression: ', roc_auc_score(y_test, y_score2))\n",
    "# print('roc_auc_score for Random Forest Regression: ', roc_auc_score(y_test, y_score2))\n"
   ]
  }
 ],
 "metadata": {
  "kernelspec": {
   "display_name": "Python 3 (ipykernel)",
   "language": "python",
   "name": "python3"
  },
  "language_info": {
   "codemirror_mode": {
    "name": "ipython",
    "version": 3
   },
   "file_extension": ".py",
   "mimetype": "text/x-python",
   "name": "python",
   "nbconvert_exporter": "python",
   "pygments_lexer": "ipython3",
   "version": "3.9.7"
  }
 },
 "nbformat": 4,
 "nbformat_minor": 5
}
